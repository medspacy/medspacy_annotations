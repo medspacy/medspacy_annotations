{
 "cells": [
  {
   "cell_type": "markdown",
   "id": "8e51fcf5-8572-42fd-adf1-5bbdb1978328",
   "metadata": {},
   "source": [
    "# Tutorial For Annotation import and agreement (WIP)\n",
    "\n",
    "This is the skeleton of a tutorial. Currently planning to finish tutorial by the end of April."
   ]
  },
  {
   "cell_type": "markdown",
   "id": "64a4ad9c-56ac-4be8-a0e6-4c48e98f30a6",
   "metadata": {},
   "source": [
    "## Import functionality\n",
    "\n",
    "The AnnotationAggregator class is designed to help with import of different file formats into spacy and dataframe objects, which are frequently used in NLP/datascience communities."
   ]
  },
  {
   "cell_type": "code",
   "execution_count": 1,
   "id": "c7dbce73-f1d0-4a72-9d76-ed8ec4737ba1",
   "metadata": {},
   "outputs": [],
   "source": [
    "import spacy\n",
    "import medspacy\n",
    "import pandas\n",
    "import sys\n",
    "sys.path.insert(1, '../AnnotationAggregator/')\n",
    "import AnnotationAggregator as AA"
   ]
  },
  {
   "cell_type": "markdown",
   "id": "56fedfd3-d745-4aab-a2de-6da5be54dd66",
   "metadata": {},
   "source": [
    "### Spacy import"
   ]
  },
  {
   "cell_type": "markdown",
   "id": "80d037e3-9a88-4c27-b7b2-2f825a110940",
   "metadata": {},
   "source": [
    "We'll start by creating some example spacy annotations and printing the extracted entities."
   ]
  },
  {
   "cell_type": "code",
   "execution_count": 2,
   "id": "3cbd4553-cd84-41ef-a366-07419ecef90f",
   "metadata": {},
   "outputs": [
    {
     "name": "stdout",
     "output_type": "stream",
     "text": [
      "doc1.ents:  (Last year, Dustin, Dallas, Atlanta)\n",
      "doc2.ents:  (Last year, Dustin, Dallas, Atlanta)\n"
     ]
    }
   ],
   "source": [
    "#!python -m spacy download en_core_web_sm\n",
    "#!python -m spacy download en_core_web_md\n",
    "\n",
    "nlp1 = spacy.load(\"en_core_web_sm\")\n",
    "nlp2 = spacy.load(\"en_core_web_md\")\n",
    "\n",
    "#Note for development: Get better examples or make my own entities\n",
    "doc1 = nlp1(\"Last year, I traveled to Dustin, Dallas, and Atlanta.\")\n",
    "doc2 = nlp2(\"Last year, I traveled to Dustin, Dallas, and Atlanta.\")\n",
    "\n",
    "print('doc1.ents: ',doc1.ents)\n",
    "print('doc2.ents: ',doc2.ents)"
   ]
  },
  {
   "cell_type": "markdown",
   "id": "262440d2-6bf1-4589-a274-e22a14fbe3b2",
   "metadata": {},
   "source": [
    "Annotation Aggregator class objects can be initialized with no parameters. (Note that currently if you are using dataframe object you must include dataframes during instantiation of the object -- this will be changed in an update very soon to work similarly to other inputs)"
   ]
  },
  {
   "cell_type": "code",
   "execution_count": 3,
   "id": "1008f0b0-d18f-44a3-8260-8dbef751cd24",
   "metadata": {},
   "outputs": [],
   "source": [
    "Agg = AA.AnnotationAggregator()"
   ]
  },
  {
   "cell_type": "markdown",
   "id": "56b5dd94-d183-4e81-9bf7-8977fbf0431a",
   "metadata": {},
   "source": [
    "To add spacy documents with entities or spans with spangroups, use the 'add_spacyDocs' method."
   ]
  },
  {
   "cell_type": "code",
   "execution_count": 4,
   "id": "b2e12d30-dde2-49da-ae81-13f6213a0199",
   "metadata": {},
   "outputs": [],
   "source": [
    "Agg.add_spacyDocs([doc1])\n",
    "Agg.add_spacyDocs([doc2])"
   ]
  },
  {
   "cell_type": "markdown",
   "id": "3d44c91e-dbb3-436b-a1e9-5b9d7c702d81",
   "metadata": {},
   "source": [
    "Now let's see what is stored in the 'Agg' object. Note that getter information is always stored as dictionaries, with the key generally specifying a group of documents."
   ]
  },
  {
   "cell_type": "code",
   "execution_count": 5,
   "id": "e2caab97-9c15-4acd-9c47-c40ac34d3f4a",
   "metadata": {},
   "outputs": [
    {
     "data": {
      "text/plain": [
       "(dict_keys(['spacyDoc_set1', 'spacyDoc_set2']),\n",
       " dict_keys(['spacyDoc_set1', 'spacyDoc_set2']),\n",
       " dict_keys(['0']))"
      ]
     },
     "execution_count": 5,
     "metadata": {},
     "output_type": "execute_result"
    }
   ],
   "source": [
    "Agg.get_spacy_docs().keys(), Agg.get_raw_df().keys(), Agg.get_text().keys()"
   ]
  },
  {
   "cell_type": "code",
   "execution_count": 6,
   "id": "1c6b001b-ec0d-43c5-a120-ebca2314f457",
   "metadata": {},
   "outputs": [
    {
     "data": {
      "text/plain": [
       "{'0': Last year, I traveled to Dustin, Dallas, and Atlanta.}"
      ]
     },
     "execution_count": 6,
     "metadata": {},
     "output_type": "execute_result"
    }
   ],
   "source": [
    "Agg.get_spacy_docs()['spacyDoc_set1']"
   ]
  },
  {
   "cell_type": "code",
   "execution_count": 7,
   "id": "43f9277a-01d4-421d-8790-b9db2791459d",
   "metadata": {},
   "outputs": [
    {
     "data": {
      "text/html": [
       "<div>\n",
       "<style scoped>\n",
       "    .dataframe tbody tr th:only-of-type {\n",
       "        vertical-align: middle;\n",
       "    }\n",
       "\n",
       "    .dataframe tbody tr th {\n",
       "        vertical-align: top;\n",
       "    }\n",
       "\n",
       "    .dataframe thead th {\n",
       "        text-align: right;\n",
       "    }\n",
       "</style>\n",
       "<table border=\"1\" class=\"dataframe\">\n",
       "  <thead>\n",
       "    <tr style=\"text-align: right;\">\n",
       "      <th></th>\n",
       "      <th>DocID</th>\n",
       "      <th>annotatedSpan</th>\n",
       "      <th>spanStartChar</th>\n",
       "      <th>spanEndChar</th>\n",
       "      <th>spanLabel</th>\n",
       "    </tr>\n",
       "  </thead>\n",
       "  <tbody>\n",
       "    <tr>\n",
       "      <th>0</th>\n",
       "      <td>0</td>\n",
       "      <td>Last year</td>\n",
       "      <td>0</td>\n",
       "      <td>9</td>\n",
       "      <td>DATE</td>\n",
       "    </tr>\n",
       "    <tr>\n",
       "      <th>1</th>\n",
       "      <td>0</td>\n",
       "      <td>Dustin</td>\n",
       "      <td>25</td>\n",
       "      <td>31</td>\n",
       "      <td>GPE</td>\n",
       "    </tr>\n",
       "    <tr>\n",
       "      <th>2</th>\n",
       "      <td>0</td>\n",
       "      <td>Dallas</td>\n",
       "      <td>33</td>\n",
       "      <td>39</td>\n",
       "      <td>GPE</td>\n",
       "    </tr>\n",
       "    <tr>\n",
       "      <th>3</th>\n",
       "      <td>0</td>\n",
       "      <td>Atlanta</td>\n",
       "      <td>45</td>\n",
       "      <td>52</td>\n",
       "      <td>GPE</td>\n",
       "    </tr>\n",
       "  </tbody>\n",
       "</table>\n",
       "</div>"
      ],
      "text/plain": [
       "  DocID annotatedSpan  spanStartChar  spanEndChar spanLabel\n",
       "0     0     Last year              0            9      DATE\n",
       "1     0        Dustin             25           31       GPE\n",
       "2     0        Dallas             33           39       GPE\n",
       "3     0       Atlanta             45           52       GPE"
      ]
     },
     "execution_count": 7,
     "metadata": {},
     "output_type": "execute_result"
    }
   ],
   "source": [
    "Agg.get_raw_df()['spacyDoc_set1']"
   ]
  },
  {
   "cell_type": "code",
   "execution_count": 8,
   "id": "003e7210-918d-40f1-805f-e78cae11e3b6",
   "metadata": {},
   "outputs": [
    {
     "data": {
      "text/plain": [
       "'Last year, I traveled to Dustin, Dallas, and Atlanta.'"
      ]
     },
     "execution_count": 8,
     "metadata": {},
     "output_type": "execute_result"
    }
   ],
   "source": [
    "Agg.get_text()['0']"
   ]
  },
  {
   "cell_type": "markdown",
   "id": "1fd300fa-19ba-434d-b3a8-66347c504536",
   "metadata": {},
   "source": [
    "### Ehost import"
   ]
  },
  {
   "cell_type": "markdown",
   "id": "b7b1b429-2080-4509-9792-caf5b811a7cf",
   "metadata": {},
   "source": [
    "Put list of ehost filepaths in this method. Each path will be set aside as it's own group of documents.\n",
    "\n",
    "First the code will import the files as spacy documents, then dataframes. You can access both using the above functions.\n",
    "\n",
    "Note that Ehost functions here rely on the ehost-io package. You can download using the below cell. For more extensive use cases and documentation of this code, see https://github.com/medspacy/medspacy_io"
   ]
  },
  {
   "cell_type": "code",
   "execution_count": 10,
   "id": "41cd29ba-8dee-42e5-af55-b29def798e90",
   "metadata": {},
   "outputs": [],
   "source": [
    "##Need to have example ehost file to import"
   ]
  },
  {
   "cell_type": "code",
   "execution_count": null,
   "id": "ee0bd7e2-9a66-4fb8-b87a-59388fa04933",
   "metadata": {},
   "outputs": [],
   "source": [
    "#!pip medspacy-io"
   ]
  },
  {
   "cell_type": "code",
   "execution_count": 15,
   "id": "85cb1985-7a22-4443-9831-d87d31e70951",
   "metadata": {},
   "outputs": [],
   "source": [
    "#Agg.add_ehost_files(annot_dirs=***PUT list of filepaths here***)"
   ]
  },
  {
   "cell_type": "code",
   "execution_count": null,
   "id": "3ff52108-6f0a-4c32-88e6-f99f7297e885",
   "metadata": {},
   "outputs": [],
   "source": [
    "##Agg.get_raw_df()"
   ]
  },
  {
   "cell_type": "markdown",
   "id": "1a74f73a-b196-410b-bba5-338fbb1095c4",
   "metadata": {},
   "source": [
    "## Agreement (Performance)\n",
    "\n",
    "Now that data formats are imported, lets see all pairwise agreements/performance between each set of documents. Note that the formal metrics and agreement dataframe are stored by the name of each set of documents, separated by a hyphen. 'get_agreement_metrics()' has an inner dictionary for each pair, for different metrics."
   ]
  },
  {
   "cell_type": "code",
   "execution_count": 14,
   "id": "a561fae3-2a2d-496f-b163-195743c27d6e",
   "metadata": {},
   "outputs": [
    {
     "data": {
      "text/plain": [
       "(dict_keys(['spacyDoc_set1-spacyDoc_set2']),\n",
       " dict_keys(['spacyDoc_set1-spacyDoc_set2']))"
      ]
     },
     "execution_count": 14,
     "metadata": {},
     "output_type": "execute_result"
    }
   ],
   "source": [
    "Agg.get_agreement_dict().keys() , Agg.get_agreement_metrics().keys()"
   ]
  },
  {
   "cell_type": "code",
   "execution_count": 15,
   "id": "677ed4ed-37b7-4c0f-ac65-78a8d18133b1",
   "metadata": {},
   "outputs": [
    {
     "data": {
      "text/html": [
       "<div>\n",
       "<style scoped>\n",
       "    .dataframe tbody tr th:only-of-type {\n",
       "        vertical-align: middle;\n",
       "    }\n",
       "\n",
       "    .dataframe tbody tr th {\n",
       "        vertical-align: top;\n",
       "    }\n",
       "\n",
       "    .dataframe thead th {\n",
       "        text-align: right;\n",
       "    }\n",
       "</style>\n",
       "<table border=\"1\" class=\"dataframe\">\n",
       "  <thead>\n",
       "    <tr style=\"text-align: right;\">\n",
       "      <th></th>\n",
       "      <th>doc_name</th>\n",
       "      <th>Annotation_1</th>\n",
       "      <th>Annotation_2</th>\n",
       "      <th>Annot_1_label</th>\n",
       "      <th>Annot_1_char</th>\n",
       "      <th>Annot_2_label</th>\n",
       "      <th>Annot_2_char</th>\n",
       "      <th>Overall_start_char</th>\n",
       "      <th>Exact_Match?</th>\n",
       "      <th>Duplicate_Matches?</th>\n",
       "      <th>Overlap?</th>\n",
       "      <th>Matching_label?</th>\n",
       "      <th>context</th>\n",
       "    </tr>\n",
       "  </thead>\n",
       "  <tbody>\n",
       "    <tr>\n",
       "      <th>0</th>\n",
       "      <td>0</td>\n",
       "      <td>Last year</td>\n",
       "      <td>Last year</td>\n",
       "      <td>DATE</td>\n",
       "      <td>0-9</td>\n",
       "      <td>DATE</td>\n",
       "      <td>0-9</td>\n",
       "      <td>0</td>\n",
       "      <td>True</td>\n",
       "      <td>False</td>\n",
       "      <td>True</td>\n",
       "      <td>True</td>\n",
       "      <td>...Last year, I traveled to Dustin, Dallas, an...</td>\n",
       "    </tr>\n",
       "    <tr>\n",
       "      <th>1</th>\n",
       "      <td>0</td>\n",
       "      <td>Dustin</td>\n",
       "      <td>Dustin</td>\n",
       "      <td>GPE</td>\n",
       "      <td>25-31</td>\n",
       "      <td>GPE</td>\n",
       "      <td>25-31</td>\n",
       "      <td>25</td>\n",
       "      <td>True</td>\n",
       "      <td>False</td>\n",
       "      <td>True</td>\n",
       "      <td>True</td>\n",
       "      <td>...Last year, I traveled to Dustin, Dallas, an...</td>\n",
       "    </tr>\n",
       "    <tr>\n",
       "      <th>2</th>\n",
       "      <td>0</td>\n",
       "      <td>Dallas</td>\n",
       "      <td>Dallas</td>\n",
       "      <td>GPE</td>\n",
       "      <td>33-39</td>\n",
       "      <td>GPE</td>\n",
       "      <td>33-39</td>\n",
       "      <td>33</td>\n",
       "      <td>True</td>\n",
       "      <td>False</td>\n",
       "      <td>True</td>\n",
       "      <td>True</td>\n",
       "      <td>...Last year, I traveled to Dustin, Dallas, an...</td>\n",
       "    </tr>\n",
       "    <tr>\n",
       "      <th>3</th>\n",
       "      <td>0</td>\n",
       "      <td>Atlanta</td>\n",
       "      <td>Atlanta</td>\n",
       "      <td>GPE</td>\n",
       "      <td>45-52</td>\n",
       "      <td>GPE</td>\n",
       "      <td>45-52</td>\n",
       "      <td>45</td>\n",
       "      <td>True</td>\n",
       "      <td>False</td>\n",
       "      <td>True</td>\n",
       "      <td>True</td>\n",
       "      <td>...Last year, I traveled to Dustin, Dallas, an...</td>\n",
       "    </tr>\n",
       "  </tbody>\n",
       "</table>\n",
       "</div>"
      ],
      "text/plain": [
       "  doc_name Annotation_1 Annotation_2 Annot_1_label Annot_1_char Annot_2_label  \\\n",
       "0        0    Last year    Last year          DATE          0-9          DATE   \n",
       "1        0       Dustin       Dustin           GPE        25-31           GPE   \n",
       "2        0       Dallas       Dallas           GPE        33-39           GPE   \n",
       "3        0      Atlanta      Atlanta           GPE        45-52           GPE   \n",
       "\n",
       "  Annot_2_char Overall_start_char Exact_Match? Duplicate_Matches? Overlap?  \\\n",
       "0          0-9                  0         True              False     True   \n",
       "1        25-31                 25         True              False     True   \n",
       "2        33-39                 33         True              False     True   \n",
       "3        45-52                 45         True              False     True   \n",
       "\n",
       "   Matching_label?                                            context  \n",
       "0             True  ...Last year, I traveled to Dustin, Dallas, an...  \n",
       "1             True  ...Last year, I traveled to Dustin, Dallas, an...  \n",
       "2             True  ...Last year, I traveled to Dustin, Dallas, an...  \n",
       "3             True  ...Last year, I traveled to Dustin, Dallas, an...  "
      ]
     },
     "execution_count": 15,
     "metadata": {},
     "output_type": "execute_result"
    }
   ],
   "source": [
    "Agg.get_agreement_dict()['spacyDoc_set1-spacyDoc_set2']"
   ]
  },
  {
   "cell_type": "code",
   "execution_count": 17,
   "id": "b153fb8b-ded9-490c-acda-b62332db8299",
   "metadata": {},
   "outputs": [
    {
     "data": {
      "text/plain": [
       "dict_keys(['span_metrics', 'token_level_metrics', 'label_metrics', 'overall_label_metrics', 'attr_metrics', 'overall_attr_metrics', 'rel_metrics', 'overall_rel_metrics'])"
      ]
     },
     "execution_count": 17,
     "metadata": {},
     "output_type": "execute_result"
    }
   ],
   "source": [
    "Agg.get_agreement_metrics()['spacyDoc_set1-spacyDoc_set2'].keys()"
   ]
  },
  {
   "cell_type": "code",
   "execution_count": 21,
   "id": "22e88def-539e-4b12-ae4f-df18f9dfe733",
   "metadata": {},
   "outputs": [
    {
     "data": {
      "text/html": [
       "<div>\n",
       "<style scoped>\n",
       "    .dataframe tbody tr th:only-of-type {\n",
       "        vertical-align: middle;\n",
       "    }\n",
       "\n",
       "    .dataframe tbody tr th {\n",
       "        vertical-align: top;\n",
       "    }\n",
       "\n",
       "    .dataframe thead th {\n",
       "        text-align: right;\n",
       "    }\n",
       "</style>\n",
       "<table border=\"1\" class=\"dataframe\">\n",
       "  <thead>\n",
       "    <tr style=\"text-align: right;\">\n",
       "      <th></th>\n",
       "      <th>TP</th>\n",
       "      <th>FP</th>\n",
       "      <th>FN</th>\n",
       "      <th>Recall</th>\n",
       "      <th>Precision</th>\n",
       "      <th>F1</th>\n",
       "    </tr>\n",
       "  </thead>\n",
       "  <tbody>\n",
       "    <tr>\n",
       "      <th>DATE</th>\n",
       "      <td>1</td>\n",
       "      <td>0</td>\n",
       "      <td>0</td>\n",
       "      <td>1.0</td>\n",
       "      <td>1.0</td>\n",
       "      <td>1.0</td>\n",
       "    </tr>\n",
       "    <tr>\n",
       "      <th>GPE</th>\n",
       "      <td>3</td>\n",
       "      <td>0</td>\n",
       "      <td>0</td>\n",
       "      <td>1.0</td>\n",
       "      <td>1.0</td>\n",
       "      <td>1.0</td>\n",
       "    </tr>\n",
       "  </tbody>\n",
       "</table>\n",
       "</div>"
      ],
      "text/plain": [
       "      TP  FP  FN  Recall  Precision   F1\n",
       "DATE   1   0   0     1.0        1.0  1.0\n",
       "GPE    3   0   0     1.0        1.0  1.0"
      ]
     },
     "execution_count": 21,
     "metadata": {},
     "output_type": "execute_result"
    }
   ],
   "source": [
    "Agg.get_agreement_metrics()['spacyDoc_set1-spacyDoc_set2']['label_metrics']"
   ]
  },
  {
   "cell_type": "code",
   "execution_count": 24,
   "id": "2655c0fa-183e-43e1-a506-2ac555eb891a",
   "metadata": {},
   "outputs": [
    {
     "data": {
      "text/html": [
       "<div>\n",
       "<style scoped>\n",
       "    .dataframe tbody tr th:only-of-type {\n",
       "        vertical-align: middle;\n",
       "    }\n",
       "\n",
       "    .dataframe tbody tr th {\n",
       "        vertical-align: top;\n",
       "    }\n",
       "\n",
       "    .dataframe thead th {\n",
       "        text-align: right;\n",
       "    }\n",
       "</style>\n",
       "<table border=\"1\" class=\"dataframe\">\n",
       "  <thead>\n",
       "    <tr style=\"text-align: right;\">\n",
       "      <th></th>\n",
       "      <th>TP</th>\n",
       "      <th>FP</th>\n",
       "      <th>FN</th>\n",
       "      <th>Recall</th>\n",
       "      <th>Precision</th>\n",
       "      <th>F1 (Micro)</th>\n",
       "      <th>F1 (Macro)</th>\n",
       "    </tr>\n",
       "  </thead>\n",
       "  <tbody>\n",
       "    <tr>\n",
       "      <th>Overall Label Metrics</th>\n",
       "      <td>4</td>\n",
       "      <td>0</td>\n",
       "      <td>0</td>\n",
       "      <td>1.0</td>\n",
       "      <td>1.0</td>\n",
       "      <td>1.0</td>\n",
       "      <td>1.0</td>\n",
       "    </tr>\n",
       "  </tbody>\n",
       "</table>\n",
       "</div>"
      ],
      "text/plain": [
       "                       TP  FP  FN  Recall  Precision  F1 (Micro)  F1 (Macro)\n",
       "Overall Label Metrics   4   0   0     1.0        1.0         1.0         1.0"
      ]
     },
     "execution_count": 24,
     "metadata": {},
     "output_type": "execute_result"
    }
   ],
   "source": [
    "Agg.get_agreement_metrics()['spacyDoc_set1-spacyDoc_set2']['overall_label_metrics']"
   ]
  },
  {
   "cell_type": "markdown",
   "id": "1219d494-f380-4fab-80c1-d0b67d43595c",
   "metadata": {},
   "source": [
    "You can also print an html and csv containing this information (and a couple visualizations) by using the 'generate_report()' method."
   ]
  },
  {
   "cell_type": "code",
   "execution_count": null,
   "id": "2964c1ef-7de2-418c-adb1-60962d8af96d",
   "metadata": {},
   "outputs": [],
   "source": [
    "#Agg.generate_report()"
   ]
  }
 ],
 "metadata": {
  "kernelspec": {
   "display_name": "Python 3 (ipykernel)",
   "language": "python",
   "name": "python3"
  },
  "language_info": {
   "codemirror_mode": {
    "name": "ipython",
    "version": 3
   },
   "file_extension": ".py",
   "mimetype": "text/x-python",
   "name": "python",
   "nbconvert_exporter": "python",
   "pygments_lexer": "ipython3",
   "version": "3.9.7"
  }
 },
 "nbformat": 4,
 "nbformat_minor": 5
}
