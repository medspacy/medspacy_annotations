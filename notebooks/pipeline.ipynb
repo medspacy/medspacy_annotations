{
 "cells": [
  {
   "cell_type": "markdown",
   "id": "4106a462-56ed-454a-a105-330c9f4d2803",
   "metadata": {},
   "source": [
    "# Pipeline: eHost annotation IO -> build dataframe -> IAA calculation"
   ]
  },
  {
   "cell_type": "markdown",
   "id": "c89da08c-1520-4b82-92a6-fa76713c19a2",
   "metadata": {},
   "source": [
    "## eHost annotation IO (overlapped)"
   ]
  },
  {
   "cell_type": "code",
   "execution_count": 1,
   "id": "a7425f8d-0abc-4c45-b9ae-f134777afa14",
   "metadata": {},
   "outputs": [],
   "source": [
    "import os # in the older version, dir reader does not work, so we iterate the folder\n",
    "from spacy.lang.en import English\n",
    "from medspacy_io.reader import EhostDocReader\n",
    "from medspacy_io.reader import EhostDirReader\n",
    "import pandas as pd\n",
    "import sys\n",
    "# caution: path[0] is reserved for script path (or '' in REPL)\n",
    "sys.path.insert(1, './Integrated_code/')\n",
    "import eHost_annot2dataframe as eHost2df #io functions"
   ]
  },
  {
   "cell_type": "code",
   "execution_count": 6,
   "id": "92b742f0-643a-4976-9bb8-65612ad253bc",
   "metadata": {},
   "outputs": [],
   "source": [
    "schema_file = 'C:/Users/johna/Desktop/work forms filled/Symptoms/Symptoms/config/projectschema.xml'\n",
    "doc_dir = '/Users/johna/Desktop/work forms filled/Symptoms/Symptoms/corpus/'\n",
    "anno_dir = '/Users/johna/Desktop/work forms filled/Symptoms/Symptoms/saved/'"
   ]
  },
  {
   "cell_type": "markdown",
   "id": "c250ea78-1db4-4835-99c6-33ec4101d74c",
   "metadata": {},
   "source": [
    "***Remark:*** We are using older version of `medspacy-io-0.1.0.dev34`, the directory reader does not work. So we list the files and readin each one.  In the new version of `medspacy-io` we can use the reader for entire folder."
   ]
  },
  {
   "cell_type": "code",
   "execution_count": 8,
   "id": "9c188183-d20e-4df1-941c-da177a37a7c0",
   "metadata": {},
   "outputs": [
    {
     "name": "stdout",
     "output_type": "stream",
     "text": [
      "50 ['18305.txt', '18826.txt', '19070.txt', '24881.txt', '26272.txt', '26388.txt', '28056.txt', '321062.txt', '3271.txt', '330335.txt', '330814.txt', '33137.txt', '33200.txt', '335643.txt', '345622.txt', '346854.txt', '366026.txt', '36609.txt', '369557.txt', '375911.txt', '377554.txt', '379.txt', '38580.txt', '38757.txt', '416614.txt', '439912.txt', '45509.txt', '456788.txt', '457012.txt', '45725.txt', '485939.txt', '489228.txt', '52374.txt', '527735.txt', '536291.txt', '537108.txt', '5585.txt', '56773.txt', '5749.txt', '575514.txt', '584041.txt', '593885.txt', '595179.txt', '601884.txt', '628045.txt', '655523.txt', '669731.txt', '679566.txt', '700062.txt', '700799.txt']\n"
     ]
    }
   ],
   "source": [
    "ereader = EhostDocReader(nlp=English(), schema_file=schema_file,support_overlap=True)\n",
    "doc_list = os.listdir(doc_dir)\n",
    "print(len(doc_list),doc_list)\n",
    "docs = []\n",
    "for fn in doc_list:\n",
    "    doc = ereader.read(doc_dir+fn)\n",
    "    docs.append(doc)"
   ]
  },
  {
   "cell_type": "markdown",
   "id": "b87b4327-51ed-4f2e-ac8f-b8602f5123ab",
   "metadata": {},
   "source": [
    "### Now build up dataframe"
   ]
  },
  {
   "cell_type": "code",
   "execution_count": 9,
   "id": "4c400ec5-2e1d-42b4-bea2-e46e806d9de2",
   "metadata": {},
   "outputs": [
    {
     "data": {
      "text/html": [
       "<div>\n",
       "<style scoped>\n",
       "    .dataframe tbody tr th:only-of-type {\n",
       "        vertical-align: middle;\n",
       "    }\n",
       "\n",
       "    .dataframe tbody tr th {\n",
       "        vertical-align: top;\n",
       "    }\n",
       "\n",
       "    .dataframe thead th {\n",
       "        text-align: right;\n",
       "    }\n",
       "</style>\n",
       "<table border=\"1\" class=\"dataframe\">\n",
       "  <thead>\n",
       "    <tr style=\"text-align: right;\">\n",
       "      <th></th>\n",
       "      <th>Span Text</th>\n",
       "      <th>Concept Label</th>\n",
       "      <th>start loc</th>\n",
       "      <th>end loc</th>\n",
       "      <th>doc name</th>\n",
       "    </tr>\n",
       "  </thead>\n",
       "  <tbody>\n",
       "    <tr>\n",
       "      <th>0</th>\n",
       "      <td>HISTORY OF PRESENT ILLNESS:  Ms. [**Known last...</td>\n",
       "      <td>Symptom_Section</td>\n",
       "      <td>128</td>\n",
       "      <td>2616</td>\n",
       "      <td>18305.txt</td>\n",
       "    </tr>\n",
       "    <tr>\n",
       "      <th>1</th>\n",
       "      <td>BRIEF HOSPITAL COURSE:  Ms. [**Known lastname ...</td>\n",
       "      <td>Symptom_Section</td>\n",
       "      <td>2618</td>\n",
       "      <td>4272</td>\n",
       "      <td>18305.txt</td>\n",
       "    </tr>\n",
       "    <tr>\n",
       "      <th>2</th>\n",
       "      <td>HISTORY OF PRESENT ILLNESS:</td>\n",
       "      <td>SectionHeader_HasSymptom</td>\n",
       "      <td>128</td>\n",
       "      <td>155</td>\n",
       "      <td>18305.txt</td>\n",
       "    </tr>\n",
       "    <tr>\n",
       "      <th>3</th>\n",
       "      <td>BRIEF HOSPITAL COURSE:</td>\n",
       "      <td>SectionHeader_HasSymptom</td>\n",
       "      <td>2618</td>\n",
       "      <td>2640</td>\n",
       "      <td>18305.txt</td>\n",
       "    </tr>\n",
       "    <tr>\n",
       "      <th>4</th>\n",
       "      <td>polymyalgia rheumatica</td>\n",
       "      <td>Symptom</td>\n",
       "      <td>232</td>\n",
       "      <td>254</td>\n",
       "      <td>18305.txt</td>\n",
       "    </tr>\n",
       "    <tr>\n",
       "      <th>...</th>\n",
       "      <td>...</td>\n",
       "      <td>...</td>\n",
       "      <td>...</td>\n",
       "      <td>...</td>\n",
       "      <td>...</td>\n",
       "    </tr>\n",
       "    <tr>\n",
       "      <th>1214</th>\n",
       "      <td>Face remains\\n   mildly swollen</td>\n",
       "      <td>Symptom</td>\n",
       "      <td>1119</td>\n",
       "      <td>1149</td>\n",
       "      <td>700799.txt</td>\n",
       "    </tr>\n",
       "    <tr>\n",
       "      <th>1215</th>\n",
       "      <td>Assessment:</td>\n",
       "      <td>SectionHeader_HasSymptom</td>\n",
       "      <td>715</td>\n",
       "      <td>726</td>\n",
       "      <td>700799.txt</td>\n",
       "    </tr>\n",
       "    <tr>\n",
       "      <th>1216</th>\n",
       "      <td>Assessment:</td>\n",
       "      <td>SectionHeader_HasSymptom</td>\n",
       "      <td>981</td>\n",
       "      <td>992</td>\n",
       "      <td>700799.txt</td>\n",
       "    </tr>\n",
       "    <tr>\n",
       "      <th>1217</th>\n",
       "      <td>Pt c/o [**6-2**] pain in neck with movement.</td>\n",
       "      <td>Symptom_Section</td>\n",
       "      <td>730</td>\n",
       "      <td>774</td>\n",
       "      <td>700799.txt</td>\n",
       "    </tr>\n",
       "    <tr>\n",
       "      <th>1218</th>\n",
       "      <td>L eye red with periorbital edema. Pupil fixed ...</td>\n",
       "      <td>Symptom_Section</td>\n",
       "      <td>996</td>\n",
       "      <td>1255</td>\n",
       "      <td>700799.txt</td>\n",
       "    </tr>\n",
       "  </tbody>\n",
       "</table>\n",
       "<p>1219 rows × 5 columns</p>\n",
       "</div>"
      ],
      "text/plain": [
       "                                              Span Text  \\\n",
       "0     HISTORY OF PRESENT ILLNESS:  Ms. [**Known last...   \n",
       "1     BRIEF HOSPITAL COURSE:  Ms. [**Known lastname ...   \n",
       "2                           HISTORY OF PRESENT ILLNESS:   \n",
       "3                                BRIEF HOSPITAL COURSE:   \n",
       "4                                polymyalgia rheumatica   \n",
       "...                                                 ...   \n",
       "1214                    Face remains\\n   mildly swollen   \n",
       "1215                                        Assessment:   \n",
       "1216                                        Assessment:   \n",
       "1217       Pt c/o [**6-2**] pain in neck with movement.   \n",
       "1218  L eye red with periorbital edema. Pupil fixed ...   \n",
       "\n",
       "                 Concept Label  start loc  end loc    doc name  \n",
       "0              Symptom_Section        128     2616   18305.txt  \n",
       "1              Symptom_Section       2618     4272   18305.txt  \n",
       "2     SectionHeader_HasSymptom        128      155   18305.txt  \n",
       "3     SectionHeader_HasSymptom       2618     2640   18305.txt  \n",
       "4                      Symptom        232      254   18305.txt  \n",
       "...                        ...        ...      ...         ...  \n",
       "1214                   Symptom       1119     1149  700799.txt  \n",
       "1215  SectionHeader_HasSymptom        715      726  700799.txt  \n",
       "1216  SectionHeader_HasSymptom        981      992  700799.txt  \n",
       "1217           Symptom_Section        730      774  700799.txt  \n",
       "1218           Symptom_Section        996     1255  700799.txt  \n",
       "\n",
       "[1219 rows x 5 columns]"
      ]
     },
     "execution_count": 9,
     "metadata": {},
     "output_type": "execute_result"
    }
   ],
   "source": [
    "df = eHost2df.df_builder_overlapSpan(docs,doc_list)\n",
    "df"
   ]
  },
  {
   "cell_type": "markdown",
   "id": "b3418ba7-e9e6-4936-91e5-124408746d63",
   "metadata": {},
   "source": [
    "You can now save the DataFrame by run `df.to_pickle(\"df_Mengke.pkl\")` or load it by `pd.read_pickle('./df_Mengke.pkl')`"
   ]
  },
  {
   "cell_type": "markdown",
   "id": "bde484c1-e8e7-47eb-ae0d-200eff63bf30",
   "metadata": {},
   "source": [
    "## IAA Calculation\n",
    "***Remark*** You need to install `quicksectx` (currently v0.3.1) if you don't already have it (I think it may be installed alongside medspacy)"
   ]
  },
  {
   "cell_type": "code",
   "execution_count": null,
   "id": "4db63ada-c285-443f-b0be-096d45bc7b87",
   "metadata": {},
   "outputs": [],
   "source": [
    "import IAA_ as IAA\n",
    "\n",
    "#Insert the two dataframes where you see 'df1' and 'df2' below\n",
    "#By default this will look at labels and loose matching. 'df1' is considered the primary/golden annotation.\n",
    "#Returns a dataframe with relevant calculations\n",
    "IAA.corpus_agreement(df1,df2)\n"
   ]
  }
 ],
 "metadata": {
  "kernelspec": {
   "display_name": "Python [conda env:python3.8]",
   "language": "python",
   "name": "conda-env-python3.8-py"
  },
  "language_info": {
   "codemirror_mode": {
    "name": "ipython",
    "version": 3
   },
   "file_extension": ".py",
   "mimetype": "text/x-python",
   "name": "python",
   "nbconvert_exporter": "python",
   "pygments_lexer": "ipython3",
   "version": "3.8.13"
  }
 },
 "nbformat": 4,
 "nbformat_minor": 5
}
