{
 "cells": [
  {
   "cell_type": "markdown",
   "id": "4106a462-56ed-454a-a105-330c9f4d2803",
   "metadata": {},
   "source": [
    "# Pipeline: eHost annotation IO -> build dataframe -> IAA calculation"
   ]
  },
  {
   "cell_type": "markdown",
   "id": "c89da08c-1520-4b82-92a6-fa76713c19a2",
   "metadata": {},
   "source": [
    "## eHost annotation IO (overlapped)"
   ]
  },
  {
   "cell_type": "code",
   "execution_count": 1,
   "id": "a7425f8d-0abc-4c45-b9ae-f134777afa14",
   "metadata": {},
   "outputs": [],
   "source": [
    "import os # in the older version, dir reader does not work, so we iterate the folder\n",
    "from spacy.lang.en import English\n",
    "from medspacy_io.reader import EhostDocReader\n",
    "from medspacy_io.reader import EhostDirReader\n",
    "import pandas as pd\n",
    "import sys\n",
    "# caution: path[0] is reserved for script path (or '' in REPL)\n",
    "sys.path.insert(1, './Integrated_code/')\n",
    "import eHost_annot2dataframe as eHost2df #io functions"
   ]
  },
  {
   "cell_type": "code",
   "execution_count": 2,
   "id": "92b742f0-643a-4976-9bb8-65612ad253bc",
   "metadata": {},
   "outputs": [],
   "source": [
    "schema_file = '../mimic_annotations/testEhostReaderData/config/projectschema.xml'\n",
    "doc_dir = '../mimic_annotations/testEhostReaderData/corpus/'\n",
    "anno_dir = '../mimic_annotations/testEhostReaderData/saved/'"
   ]
  },
  {
   "cell_type": "markdown",
   "id": "c250ea78-1db4-4835-99c6-33ec4101d74c",
   "metadata": {},
   "source": [
    "***Remark:*** We are using older version of `medspacy-io-0.1.0.dev34`, the directory reader does not work. So we list the files and readin each one.  In the new version of `medspacy-io` we can use the reader for entire folder."
   ]
  },
  {
   "cell_type": "code",
   "execution_count": 3,
   "id": "9c188183-d20e-4df1-941c-da177a37a7c0",
   "metadata": {},
   "outputs": [
    {
     "name": "stdout",
     "output_type": "stream",
     "text": [
      "50 ['485939.txt', '366026.txt', '5585.txt', '669731.txt', '33200.txt', '36609.txt', '335643.txt', '52374.txt', '38580.txt', '601884.txt', '38757.txt', '416614.txt', '45725.txt', '56773.txt', '19070.txt', '628045.txt', '45509.txt', '527735.txt', '439912.txt', '457012.txt', '595179.txt', '575514.txt', '28056.txt', '655523.txt', '537108.txt', '33137.txt', '330814.txt', '18826.txt', '700062.txt', '26272.txt', '321062.txt', '584041.txt', '369557.txt', '679566.txt', '593885.txt', '379.txt', '489228.txt', '24881.txt', '377554.txt', '700799.txt', '26388.txt', '330335.txt', '18305.txt', '375911.txt', '345622.txt', '346854.txt', '536291.txt', '456788.txt', '5749.txt', '3271.txt']\n"
     ]
    }
   ],
   "source": [
    "ereader = EhostDocReader(nlp=English(), schema_file=schema_file,support_overlap=True)\n",
    "doc_list = os.listdir(doc_dir)\n",
    "print(len(doc_list),doc_list)\n",
    "docs = []\n",
    "for fn in doc_list:\n",
    "    doc = ereader.read(doc_dir+fn)\n",
    "    docs.append(doc)"
   ]
  },
  {
   "cell_type": "markdown",
   "id": "b87b4327-51ed-4f2e-ac8f-b8602f5123ab",
   "metadata": {},
   "source": [
    "### Now build up dataframe"
   ]
  },
  {
   "cell_type": "code",
   "execution_count": 4,
   "id": "4c400ec5-2e1d-42b4-bea2-e46e806d9de2",
   "metadata": {},
   "outputs": [
    {
     "data": {
      "text/html": [
       "<div>\n",
       "<style scoped>\n",
       "    .dataframe tbody tr th:only-of-type {\n",
       "        vertical-align: middle;\n",
       "    }\n",
       "\n",
       "    .dataframe tbody tr th {\n",
       "        vertical-align: top;\n",
       "    }\n",
       "\n",
       "    .dataframe thead th {\n",
       "        text-align: right;\n",
       "    }\n",
       "</style>\n",
       "<table border=\"1\" class=\"dataframe\">\n",
       "  <thead>\n",
       "    <tr style=\"text-align: right;\">\n",
       "      <th></th>\n",
       "      <th>Span Text</th>\n",
       "      <th>Concept Label</th>\n",
       "      <th>start loc</th>\n",
       "      <th>end loc</th>\n",
       "      <th>doc name</th>\n",
       "    </tr>\n",
       "  </thead>\n",
       "  <tbody>\n",
       "    <tr>\n",
       "      <th>0</th>\n",
       "      <td>respiratory failure</td>\n",
       "      <td>Symptom</td>\n",
       "      <td>103</td>\n",
       "      <td>122</td>\n",
       "      <td>485939.txt</td>\n",
       "    </tr>\n",
       "    <tr>\n",
       "      <th>1</th>\n",
       "      <td>sepsis</td>\n",
       "      <td>Symptom</td>\n",
       "      <td>1171</td>\n",
       "      <td>1177</td>\n",
       "      <td>485939.txt</td>\n",
       "    </tr>\n",
       "    <tr>\n",
       "      <th>2</th>\n",
       "      <td>edema</td>\n",
       "      <td>Symptom</td>\n",
       "      <td>4629</td>\n",
       "      <td>4634</td>\n",
       "      <td>485939.txt</td>\n",
       "    </tr>\n",
       "    <tr>\n",
       "      <th>3</th>\n",
       "      <td>thrombosis</td>\n",
       "      <td>Symptom</td>\n",
       "      <td>370</td>\n",
       "      <td>380</td>\n",
       "      <td>366026.txt</td>\n",
       "    </tr>\n",
       "    <tr>\n",
       "      <th>4</th>\n",
       "      <td>anemia</td>\n",
       "      <td>Symptom</td>\n",
       "      <td>433</td>\n",
       "      <td>439</td>\n",
       "      <td>366026.txt</td>\n",
       "    </tr>\n",
       "    <tr>\n",
       "      <th>...</th>\n",
       "      <td>...</td>\n",
       "      <td>...</td>\n",
       "      <td>...</td>\n",
       "      <td>...</td>\n",
       "      <td>...</td>\n",
       "    </tr>\n",
       "    <tr>\n",
       "      <th>562</th>\n",
       "      <td>left facial droop</td>\n",
       "      <td>Symptom</td>\n",
       "      <td>4378</td>\n",
       "      <td>4395</td>\n",
       "      <td>3271.txt</td>\n",
       "    </tr>\n",
       "    <tr>\n",
       "      <th>563</th>\n",
       "      <td>right gaze deviation</td>\n",
       "      <td>Symptom</td>\n",
       "      <td>4418</td>\n",
       "      <td>4438</td>\n",
       "      <td>3271.txt</td>\n",
       "    </tr>\n",
       "    <tr>\n",
       "      <th>564</th>\n",
       "      <td>difficulty crossing\\nmidline</td>\n",
       "      <td>Symptom</td>\n",
       "      <td>4443</td>\n",
       "      <td>4470</td>\n",
       "      <td>3271.txt</td>\n",
       "    </tr>\n",
       "    <tr>\n",
       "      <th>565</th>\n",
       "      <td>dysarthria</td>\n",
       "      <td>Symptom</td>\n",
       "      <td>6075</td>\n",
       "      <td>6085</td>\n",
       "      <td>3271.txt</td>\n",
       "    </tr>\n",
       "    <tr>\n",
       "      <th>566</th>\n",
       "      <td>swallowing</td>\n",
       "      <td>Symptom</td>\n",
       "      <td>6090</td>\n",
       "      <td>6100</td>\n",
       "      <td>3271.txt</td>\n",
       "    </tr>\n",
       "  </tbody>\n",
       "</table>\n",
       "<p>567 rows × 5 columns</p>\n",
       "</div>"
      ],
      "text/plain": [
       "                        Span Text Concept Label  start loc  end loc  \\\n",
       "0             respiratory failure       Symptom        103      122   \n",
       "1                          sepsis       Symptom       1171     1177   \n",
       "2                           edema       Symptom       4629     4634   \n",
       "3                      thrombosis       Symptom        370      380   \n",
       "4                          anemia       Symptom        433      439   \n",
       "..                            ...           ...        ...      ...   \n",
       "562             left facial droop       Symptom       4378     4395   \n",
       "563          right gaze deviation       Symptom       4418     4438   \n",
       "564  difficulty crossing\\nmidline       Symptom       4443     4470   \n",
       "565                    dysarthria       Symptom       6075     6085   \n",
       "566                    swallowing       Symptom       6090     6100   \n",
       "\n",
       "       doc name  \n",
       "0    485939.txt  \n",
       "1    485939.txt  \n",
       "2    485939.txt  \n",
       "3    366026.txt  \n",
       "4    366026.txt  \n",
       "..          ...  \n",
       "562    3271.txt  \n",
       "563    3271.txt  \n",
       "564    3271.txt  \n",
       "565    3271.txt  \n",
       "566    3271.txt  \n",
       "\n",
       "[567 rows x 5 columns]"
      ]
     },
     "execution_count": 4,
     "metadata": {},
     "output_type": "execute_result"
    }
   ],
   "source": [
    "df = eHost2df.df_builder_overlapSpan(docs,doc_list)\n",
    "df"
   ]
  },
  {
   "cell_type": "markdown",
   "id": "b3418ba7-e9e6-4936-91e5-124408746d63",
   "metadata": {},
   "source": [
    "You can now save the DataFrame by run `df.to_pickle(\"df_Mengke.pkl\")` or load it by `pd.read_pickle('./df_Mengke.pkl')`"
   ]
  },
  {
   "cell_type": "markdown",
   "id": "bde484c1-e8e7-47eb-ae0d-200eff63bf30",
   "metadata": {},
   "source": [
    "## IAA Calculation\n",
    "***Remark*** You need to install `quicksectx`."
   ]
  },
  {
   "cell_type": "code",
   "execution_count": 5,
   "id": "4db63ada-c285-443f-b0be-096d45bc7b87",
   "metadata": {},
   "outputs": [
    {
     "ename": "KeyError",
     "evalue": "0",
     "output_type": "error",
     "traceback": [
      "\u001b[0;31m---------------------------------------------------------------------------\u001b[0m",
      "\u001b[0;31mKeyError\u001b[0m                                  Traceback (most recent call last)",
      "File \u001b[0;32m~/opt/anaconda3/lib/python3.9/site-packages/pandas/core/indexes/base.py:3621\u001b[0m, in \u001b[0;36mIndex.get_loc\u001b[0;34m(self, key, method, tolerance)\u001b[0m\n\u001b[1;32m   3620\u001b[0m \u001b[38;5;28;01mtry\u001b[39;00m:\n\u001b[0;32m-> 3621\u001b[0m     \u001b[38;5;28;01mreturn\u001b[39;00m \u001b[38;5;28;43mself\u001b[39;49m\u001b[38;5;241;43m.\u001b[39;49m\u001b[43m_engine\u001b[49m\u001b[38;5;241;43m.\u001b[39;49m\u001b[43mget_loc\u001b[49m\u001b[43m(\u001b[49m\u001b[43mcasted_key\u001b[49m\u001b[43m)\u001b[49m\n\u001b[1;32m   3622\u001b[0m \u001b[38;5;28;01mexcept\u001b[39;00m \u001b[38;5;167;01mKeyError\u001b[39;00m \u001b[38;5;28;01mas\u001b[39;00m err:\n",
      "File \u001b[0;32m~/opt/anaconda3/lib/python3.9/site-packages/pandas/_libs/index.pyx:136\u001b[0m, in \u001b[0;36mpandas._libs.index.IndexEngine.get_loc\u001b[0;34m()\u001b[0m\n",
      "File \u001b[0;32m~/opt/anaconda3/lib/python3.9/site-packages/pandas/_libs/index.pyx:163\u001b[0m, in \u001b[0;36mpandas._libs.index.IndexEngine.get_loc\u001b[0;34m()\u001b[0m\n",
      "File \u001b[0;32mpandas/_libs/hashtable_class_helper.pxi:5198\u001b[0m, in \u001b[0;36mpandas._libs.hashtable.PyObjectHashTable.get_item\u001b[0;34m()\u001b[0m\n",
      "File \u001b[0;32mpandas/_libs/hashtable_class_helper.pxi:5206\u001b[0m, in \u001b[0;36mpandas._libs.hashtable.PyObjectHashTable.get_item\u001b[0;34m()\u001b[0m\n",
      "\u001b[0;31mKeyError\u001b[0m: 0",
      "\nThe above exception was the direct cause of the following exception:\n",
      "\u001b[0;31mKeyError\u001b[0m                                  Traceback (most recent call last)",
      "Input \u001b[0;32mIn [5]\u001b[0m, in \u001b[0;36m<cell line: 5>\u001b[0;34m()\u001b[0m\n\u001b[1;32m      3\u001b[0m john_df \u001b[38;5;241m=\u001b[39m pd\u001b[38;5;241m.\u001b[39mread_pickle(\u001b[38;5;124m'\u001b[39m\u001b[38;5;124m./df_John.pkl\u001b[39m\u001b[38;5;124m'\u001b[39m)\n\u001b[1;32m      4\u001b[0m mengke_df \u001b[38;5;241m=\u001b[39m pd\u001b[38;5;241m.\u001b[39mread_pickle(\u001b[38;5;124m'\u001b[39m\u001b[38;5;124m./df_Mengke.pkl\u001b[39m\u001b[38;5;124m'\u001b[39m)\n\u001b[0;32m----> 5\u001b[0m \u001b[43mIAA\u001b[49m\u001b[38;5;241;43m.\u001b[39;49m\u001b[43mcorpus_agreement\u001b[49m\u001b[43m(\u001b[49m\u001b[43mjohn_df\u001b[49m\u001b[43m,\u001b[49m\u001b[43mmengke_df\u001b[49m\u001b[43m,\u001b[49m\u001b[43mloose\u001b[49m\u001b[38;5;241;43m=\u001b[39;49m\u001b[38;5;241;43m1\u001b[39;49m\u001b[43m)\u001b[49m\n",
      "File \u001b[0;32m~/Documents/medspacy_annotations/notebooks/./Integrated_code/IAA_.py:157\u001b[0m, in \u001b[0;36mcorpus_agreement\u001b[0;34m(docs1, docs2, loose, labels, ent_or_span)\u001b[0m\n\u001b[1;32m    154\u001b[0m \u001b[38;5;124;03m'''calculate f1 over an entire corpus of documents'''\u001b[39;00m\n\u001b[1;32m    155\u001b[0m corpus_tp, corpus_fp, corpus_fn \u001b[38;5;241m=\u001b[39m (\u001b[38;5;241m0\u001b[39m,\u001b[38;5;241m0\u001b[39m,\u001b[38;5;241m0\u001b[39m)\n\u001b[0;32m--> 157\u001b[0m \u001b[38;5;28;01mif\u001b[39;00m \u001b[38;5;28mtype\u001b[39m(\u001b[43mdocs1\u001b[49m\u001b[43m[\u001b[49m\u001b[38;5;241;43m0\u001b[39;49m\u001b[43m]\u001b[49m) \u001b[38;5;129;01mis\u001b[39;00m spacy\u001b[38;5;241m.\u001b[39mtokens\u001b[38;5;241m.\u001b[39mdoc\u001b[38;5;241m.\u001b[39mDoc:\n\u001b[1;32m    158\u001b[0m     \u001b[38;5;28;01mfor\u001b[39;00m i, doc1 \u001b[38;5;129;01min\u001b[39;00m \u001b[38;5;28menumerate\u001b[39m(docs1):\n\u001b[1;32m    159\u001b[0m         tp,fp,fn \u001b[38;5;241m=\u001b[39m agreement(doc1, docs2[i],loose,labels,ent_or_span)\n",
      "File \u001b[0;32m~/opt/anaconda3/lib/python3.9/site-packages/pandas/core/frame.py:3505\u001b[0m, in \u001b[0;36mDataFrame.__getitem__\u001b[0;34m(self, key)\u001b[0m\n\u001b[1;32m   3503\u001b[0m \u001b[38;5;28;01mif\u001b[39;00m \u001b[38;5;28mself\u001b[39m\u001b[38;5;241m.\u001b[39mcolumns\u001b[38;5;241m.\u001b[39mnlevels \u001b[38;5;241m>\u001b[39m \u001b[38;5;241m1\u001b[39m:\n\u001b[1;32m   3504\u001b[0m     \u001b[38;5;28;01mreturn\u001b[39;00m \u001b[38;5;28mself\u001b[39m\u001b[38;5;241m.\u001b[39m_getitem_multilevel(key)\n\u001b[0;32m-> 3505\u001b[0m indexer \u001b[38;5;241m=\u001b[39m \u001b[38;5;28;43mself\u001b[39;49m\u001b[38;5;241;43m.\u001b[39;49m\u001b[43mcolumns\u001b[49m\u001b[38;5;241;43m.\u001b[39;49m\u001b[43mget_loc\u001b[49m\u001b[43m(\u001b[49m\u001b[43mkey\u001b[49m\u001b[43m)\u001b[49m\n\u001b[1;32m   3506\u001b[0m \u001b[38;5;28;01mif\u001b[39;00m is_integer(indexer):\n\u001b[1;32m   3507\u001b[0m     indexer \u001b[38;5;241m=\u001b[39m [indexer]\n",
      "File \u001b[0;32m~/opt/anaconda3/lib/python3.9/site-packages/pandas/core/indexes/base.py:3623\u001b[0m, in \u001b[0;36mIndex.get_loc\u001b[0;34m(self, key, method, tolerance)\u001b[0m\n\u001b[1;32m   3621\u001b[0m     \u001b[38;5;28;01mreturn\u001b[39;00m \u001b[38;5;28mself\u001b[39m\u001b[38;5;241m.\u001b[39m_engine\u001b[38;5;241m.\u001b[39mget_loc(casted_key)\n\u001b[1;32m   3622\u001b[0m \u001b[38;5;28;01mexcept\u001b[39;00m \u001b[38;5;167;01mKeyError\u001b[39;00m \u001b[38;5;28;01mas\u001b[39;00m err:\n\u001b[0;32m-> 3623\u001b[0m     \u001b[38;5;28;01mraise\u001b[39;00m \u001b[38;5;167;01mKeyError\u001b[39;00m(key) \u001b[38;5;28;01mfrom\u001b[39;00m \u001b[38;5;21;01merr\u001b[39;00m\n\u001b[1;32m   3624\u001b[0m \u001b[38;5;28;01mexcept\u001b[39;00m \u001b[38;5;167;01mTypeError\u001b[39;00m:\n\u001b[1;32m   3625\u001b[0m     \u001b[38;5;66;03m# If we have a listlike key, _check_indexing_error will raise\u001b[39;00m\n\u001b[1;32m   3626\u001b[0m     \u001b[38;5;66;03m#  InvalidIndexError. Otherwise we fall through and re-raise\u001b[39;00m\n\u001b[1;32m   3627\u001b[0m     \u001b[38;5;66;03m#  the TypeError.\u001b[39;00m\n\u001b[1;32m   3628\u001b[0m     \u001b[38;5;28mself\u001b[39m\u001b[38;5;241m.\u001b[39m_check_indexing_error(key)\n",
      "\u001b[0;31mKeyError\u001b[0m: 0"
     ]
    }
   ],
   "source": [
    "from quicksectx import IntervalNode, IntervalTree, Interval #note that you need the quicksectx library\n",
    "import IAA_ as IAA\n",
    "john_df = pd.read_pickle('./df_John.pkl')\n",
    "mengke_df = pd.read_pickle('./df_Mengke.pkl')\n",
    "IAA.corpus_agreement(john_df,mengke_df,loose=1)"
   ]
  }
 ],
 "metadata": {
  "kernelspec": {
   "display_name": "Python 3 (ipykernel)",
   "language": "python",
   "name": "python3"
  },
  "language_info": {
   "codemirror_mode": {
    "name": "ipython",
    "version": 3
   },
   "file_extension": ".py",
   "mimetype": "text/x-python",
   "name": "python",
   "nbconvert_exporter": "python",
   "pygments_lexer": "ipython3",
   "version": "3.9.12"
  }
 },
 "nbformat": 4,
 "nbformat_minor": 5
}
