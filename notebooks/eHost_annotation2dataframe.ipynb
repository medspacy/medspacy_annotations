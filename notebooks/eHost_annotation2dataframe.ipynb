{
 "cells": [
  {
   "cell_type": "markdown",
   "id": "c141c817-c7d5-4754-9923-1873a8ae2ba6",
   "metadata": {},
   "source": [
    "# EHost annotation to dataframe format for overlapped spans medspacy-io-0.1.0.dev34\n",
    "In this notebook, we readin all the annotations from a folder and build dataframe for one annotator."
   ]
  },
  {
   "cell_type": "code",
   "execution_count": null,
   "id": "a3c169c5-fc37-40d3-bc39-80e5fcd18510",
   "metadata": {},
   "outputs": [],
   "source": [
    "import os, medspacy_io\n",
    "schema_file = '../Development_and_Testing/mimic_annotations/testEhostReaderData/config/projectschema.xml' #replace with .xml\n",
    "doc_dir = '../Development_and_Testing/mimic_annotations/testEhostReaderData/corpus/' #replace with corpus folder\n",
    "anno_dir = '../Development_and_Testing/mimic_annotations/testEhostReaderData/saved/' #replace with saved folder\n",
    "\n",
    "doc_list = os.listdir(doc_dir)\n",
    "print(len(doc_list),doc_list)\n"
   ]
  },
  {
   "cell_type": "code",
   "execution_count": null,
   "id": "82c7c12f-8c3a-40c3-8ff0-e44a90932c14",
   "metadata": {},
   "outputs": [],
   "source": [
    "from spacy.lang.en import English\n",
    "from medspacy_io.reader import EhostDocReader\n",
    "from medspacy_io.reader import EhostDirReader\n",
    "import pandas as pd\n",
    "ereader = EhostDocReader(nlp=English(), schema_file=schema_file,support_overlap=True)"
   ]
  },
  {
   "cell_type": "code",
   "execution_count": null,
   "id": "2544aad0-9865-49e4-a9ad-86f0981de418",
   "metadata": {},
   "outputs": [],
   "source": [
    "#read in annotation\n",
    "data = []\n",
    "for fn in doc_list:\n",
    "    doc = ereader.read(doc_dir+fn)\n",
    "    doc_concepts_dic = doc._.concepts\n",
    "    for concept, listSpan in doc_concepts_dic.items():\n",
    "        for sp in listSpan:\n",
    "            dicElem = {}\n",
    "            dicElem['Span Text'] = sp.text\n",
    "            dicElem['Concept Label'] = sp.label_\n",
    "            dicElem['start loc'] = sp.start_char\n",
    "            dicElem['end loc'] = sp.end_char\n",
    "            dicElem['doc name'] = fn\n",
    "            data.append(dicElem)\n"
   ]
  },
  {
   "cell_type": "code",
   "execution_count": null,
   "id": "8614919b-9f44-4732-8517-4b47054b3676",
   "metadata": {},
   "outputs": [],
   "source": [
    "df = pd.DataFrame(data)\n",
    "\n",
    "df"
   ]
  },
  {
   "cell_type": "code",
   "execution_count": null,
   "id": "36c15693-4044-480c-8ae0-7b806c1457cd",
   "metadata": {},
   "outputs": [],
   "source": [
    "df.to_pickle(\"df_Mengke.pkl\")"
   ]
  },
  {
   "cell_type": "code",
   "execution_count": null,
   "id": "d047335f-c241-4105-9f83-56514674a6bb",
   "metadata": {},
   "outputs": [],
   "source": []
  }
 ],
 "metadata": {
  "kernelspec": {
   "display_name": "Python 3 (ipykernel)",
   "language": "python",
   "name": "python3"
  },
  "language_info": {
   "codemirror_mode": {
    "name": "ipython",
    "version": 3
   },
   "file_extension": ".py",
   "mimetype": "text/x-python",
   "name": "python",
   "nbconvert_exporter": "python",
   "pygments_lexer": "ipython3",
   "version": "3.9.7"
  }
 },
 "nbformat": 4,
 "nbformat_minor": 5
}
