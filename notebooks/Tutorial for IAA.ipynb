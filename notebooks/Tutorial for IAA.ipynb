{
 "cells": [
  {
   "cell_type": "markdown",
   "id": "43463bee",
   "metadata": {},
   "source": [
    "# Tutorial"
   ]
  },
  {
   "cell_type": "markdown",
   "id": "ef71d739",
   "metadata": {},
   "source": [
    "In this tutorial I will go over the basic, front-end usage of calculating IAA between 2 annotations."
   ]
  },
  {
   "cell_type": "markdown",
   "id": "e02e83f2",
   "metadata": {},
   "source": [
    "## Corpus agreement between two lists of spacy documents"
   ]
  },
  {
   "cell_type": "code",
   "execution_count": 6,
   "id": "fb664d9b",
   "metadata": {},
   "outputs": [],
   "source": [
    "import spacy\n",
    "import medspacy\n",
    "import pandas\n",
    "import sys\n",
    "sys.path.insert(1, './Integrated_code/')\n",
    "import IAA_ as IAA"
   ]
  },
  {
   "cell_type": "code",
   "execution_count": 7,
   "id": "4538bb8d",
   "metadata": {},
   "outputs": [
    {
     "name": "stdout",
     "output_type": "stream",
     "text": [
      "doc1.ents:  (utah, mississippi)\n",
      "doc2.ents:  (utah, mississippi, lake city)\n"
     ]
    }
   ],
   "source": [
    "#!python -m spacy download en_core_web_sm\n",
    "#!python -m spacy download en_core_web_md\n",
    "\n",
    "nlp1 = spacy.load(\"en_core_web_sm\")\n",
    "nlp2 = spacy.load(\"en_core_web_md\")\n",
    "\n",
    "#Note for development: Get better examples or make my own entities\n",
    "doc1 = nlp1(\"My favorite states are utah, mississippi, and salt lake city.\")\n",
    "doc2 = nlp2(\"My favorite states are utah, mississippi, and salt lake city.\")\n",
    "\n",
    "print('doc1.ents: ',doc1.ents)\n",
    "print('doc2.ents: ',doc2.ents)"
   ]
  },
  {
   "cell_type": "markdown",
   "id": "282f22a6",
   "metadata": {},
   "source": [
    "Above we made two documents using spacy's NER packages. Document 2 added more entities than document 1. Let's calculate the IAA between these documents!"
   ]
  },
  {
   "cell_type": "code",
   "execution_count": 8,
   "id": "f551ab7e",
   "metadata": {},
   "outputs": [
    {
     "data": {
      "text/html": [
       "<div>\n",
       "<style scoped>\n",
       "    .dataframe tbody tr th:only-of-type {\n",
       "        vertical-align: middle;\n",
       "    }\n",
       "\n",
       "    .dataframe tbody tr th {\n",
       "        vertical-align: top;\n",
       "    }\n",
       "\n",
       "    .dataframe thead th {\n",
       "        text-align: right;\n",
       "    }\n",
       "</style>\n",
       "<table border=\"1\" class=\"dataframe\">\n",
       "  <thead>\n",
       "    <tr style=\"text-align: right;\">\n",
       "      <th></th>\n",
       "      <th>IAA</th>\n",
       "      <th>Recall</th>\n",
       "      <th>Precision</th>\n",
       "      <th>True Positives</th>\n",
       "      <th>False Positives</th>\n",
       "      <th>False Negative</th>\n",
       "    </tr>\n",
       "  </thead>\n",
       "  <tbody>\n",
       "    <tr>\n",
       "      <th>0</th>\n",
       "      <td>0.8</td>\n",
       "      <td>0.666667</td>\n",
       "      <td>1.0</td>\n",
       "      <td>2</td>\n",
       "      <td>1</td>\n",
       "      <td>0</td>\n",
       "    </tr>\n",
       "  </tbody>\n",
       "</table>\n",
       "</div>"
      ],
      "text/plain": [
       "   IAA    Recall  Precision  True Positives  False Positives  False Negative\n",
       "0  0.8  0.666667        1.0               2                1               0"
      ]
     },
     "execution_count": 8,
     "metadata": {},
     "output_type": "execute_result"
    }
   ],
   "source": [
    "IAA.corpus_agreement([doc1],[doc2])[0]"
   ]
  },
  {
   "cell_type": "markdown",
   "id": "659963fd",
   "metadata": {},
   "source": [
    "'corpus_agreement' calculates the agreement between two lists of documents, two lists containing inner lists/tuples of entities/spans, or 2 dataframes. Note the brackets around 'doc1' and 'doc2', so they are passed in as lists. This is because corpus_agreement expects lists of documents.\n",
    "\n",
    "Also note that we are selecting the first element of the returned array. This is because the code actually returns a list of 2 elements. We will look at the second element later in the tutorial under \"The returned dataframe with mappings\".\n",
    "\n",
    "Lets look at other arguments for IAA."
   ]
  },
  {
   "cell_type": "markdown",
   "id": "2a1e28bf",
   "metadata": {},
   "source": [
    "## Corpus Agreement between two dataframes\n",
    "\n",
    "*corpus_agreement* can accept two dataframes (one for each annotation set) provided they are structured correctly. Below are the default column names that the code looks for:\n",
    "\n",
    "__'doc name'__ : column containing document name/file name. The code will calculate tp,fp,fn for each document name (ie. the dataframes will be segmented based on document names, then each pair of resultant dataframes are passed along iteratively)\n",
    "\n",
    "__'Span Text'__: column containing text of entity span\n",
    "\n",
    "__'start loc'__ : column containing starting positions of entities\n",
    "\n",
    "__'end loc'__ : column containing ending positions of entities\n",
    "\n",
    "__'Concept Label'__ : column containing label of entity. Only applicable if labels=1.\n",
    "\n",
    "__input attribute column names__ : Optional argument including any column names, input through the \"attributes\" argument list (we will talk more about this below)\n",
    "\n",
    "You must use the correct dataframe column names for the code to read your dataframes. Alternatively, you can edit the default column name strings the code searches for at the top of the IAA_ code.\n",
    "\n",
    "Note that these are the same default columns created by the medspacy ereader code, and these dataframes can be created using the 'extract_ent()' function (more on this under the 'Other functionality...' section)."
   ]
  },
  {
   "cell_type": "code",
   "execution_count": 9,
   "id": "608620bc",
   "metadata": {},
   "outputs": [
    {
     "data": {
      "text/html": [
       "<div>\n",
       "<style scoped>\n",
       "    .dataframe tbody tr th:only-of-type {\n",
       "        vertical-align: middle;\n",
       "    }\n",
       "\n",
       "    .dataframe tbody tr th {\n",
       "        vertical-align: top;\n",
       "    }\n",
       "\n",
       "    .dataframe thead th {\n",
       "        text-align: right;\n",
       "    }\n",
       "</style>\n",
       "<table border=\"1\" class=\"dataframe\">\n",
       "  <thead>\n",
       "    <tr style=\"text-align: right;\">\n",
       "      <th></th>\n",
       "      <th>doc name</th>\n",
       "      <th>Span Text</th>\n",
       "      <th>start loc</th>\n",
       "      <th>end loc</th>\n",
       "      <th>Concept Label</th>\n",
       "    </tr>\n",
       "  </thead>\n",
       "  <tbody>\n",
       "    <tr>\n",
       "      <th>0</th>\n",
       "      <td>0</td>\n",
       "      <td>utah</td>\n",
       "      <td>23</td>\n",
       "      <td>27</td>\n",
       "      <td>GPE</td>\n",
       "    </tr>\n",
       "    <tr>\n",
       "      <th>1</th>\n",
       "      <td>0</td>\n",
       "      <td>mississippi</td>\n",
       "      <td>29</td>\n",
       "      <td>40</td>\n",
       "      <td>GPE</td>\n",
       "    </tr>\n",
       "  </tbody>\n",
       "</table>\n",
       "</div>"
      ],
      "text/plain": [
       "   doc name    Span Text  start loc  end loc Concept Label\n",
       "0         0         utah         23       27           GPE\n",
       "1         0  mississippi         29       40           GPE"
      ]
     },
     "execution_count": 9,
     "metadata": {},
     "output_type": "execute_result"
    }
   ],
   "source": [
    "df1,df2 = IAA.extract_ents([doc1],[doc2])\n",
    "df1"
   ]
  },
  {
   "cell_type": "code",
   "execution_count": 10,
   "id": "d92c566d",
   "metadata": {},
   "outputs": [
    {
     "data": {
      "text/html": [
       "<div>\n",
       "<style scoped>\n",
       "    .dataframe tbody tr th:only-of-type {\n",
       "        vertical-align: middle;\n",
       "    }\n",
       "\n",
       "    .dataframe tbody tr th {\n",
       "        vertical-align: top;\n",
       "    }\n",
       "\n",
       "    .dataframe thead th {\n",
       "        text-align: right;\n",
       "    }\n",
       "</style>\n",
       "<table border=\"1\" class=\"dataframe\">\n",
       "  <thead>\n",
       "    <tr style=\"text-align: right;\">\n",
       "      <th></th>\n",
       "      <th>doc name</th>\n",
       "      <th>Span Text</th>\n",
       "      <th>start loc</th>\n",
       "      <th>end loc</th>\n",
       "      <th>Concept Label</th>\n",
       "    </tr>\n",
       "  </thead>\n",
       "  <tbody>\n",
       "    <tr>\n",
       "      <th>0</th>\n",
       "      <td>0</td>\n",
       "      <td>utah</td>\n",
       "      <td>23</td>\n",
       "      <td>27</td>\n",
       "      <td>GPE</td>\n",
       "    </tr>\n",
       "    <tr>\n",
       "      <th>1</th>\n",
       "      <td>0</td>\n",
       "      <td>mississippi</td>\n",
       "      <td>29</td>\n",
       "      <td>40</td>\n",
       "      <td>GPE</td>\n",
       "    </tr>\n",
       "    <tr>\n",
       "      <th>2</th>\n",
       "      <td>0</td>\n",
       "      <td>lake city</td>\n",
       "      <td>51</td>\n",
       "      <td>60</td>\n",
       "      <td>GPE</td>\n",
       "    </tr>\n",
       "  </tbody>\n",
       "</table>\n",
       "</div>"
      ],
      "text/plain": [
       "   doc name    Span Text  start loc  end loc Concept Label\n",
       "0         0         utah         23       27           GPE\n",
       "1         0  mississippi         29       40           GPE\n",
       "2         0    lake city         51       60           GPE"
      ]
     },
     "execution_count": 10,
     "metadata": {},
     "output_type": "execute_result"
    }
   ],
   "source": [
    "df2"
   ]
  },
  {
   "cell_type": "code",
   "execution_count": 11,
   "id": "80bac339",
   "metadata": {},
   "outputs": [
    {
     "data": {
      "text/html": [
       "<div>\n",
       "<style scoped>\n",
       "    .dataframe tbody tr th:only-of-type {\n",
       "        vertical-align: middle;\n",
       "    }\n",
       "\n",
       "    .dataframe tbody tr th {\n",
       "        vertical-align: top;\n",
       "    }\n",
       "\n",
       "    .dataframe thead th {\n",
       "        text-align: right;\n",
       "    }\n",
       "</style>\n",
       "<table border=\"1\" class=\"dataframe\">\n",
       "  <thead>\n",
       "    <tr style=\"text-align: right;\">\n",
       "      <th></th>\n",
       "      <th>IAA</th>\n",
       "      <th>Recall</th>\n",
       "      <th>Precision</th>\n",
       "      <th>True Positives</th>\n",
       "      <th>False Positives</th>\n",
       "      <th>False Negative</th>\n",
       "    </tr>\n",
       "  </thead>\n",
       "  <tbody>\n",
       "    <tr>\n",
       "      <th>0</th>\n",
       "      <td>0.8</td>\n",
       "      <td>0.666667</td>\n",
       "      <td>1.0</td>\n",
       "      <td>2</td>\n",
       "      <td>1</td>\n",
       "      <td>0</td>\n",
       "    </tr>\n",
       "  </tbody>\n",
       "</table>\n",
       "</div>"
      ],
      "text/plain": [
       "   IAA    Recall  Precision  True Positives  False Positives  False Negative\n",
       "0  0.8  0.666667        1.0               2                1               0"
      ]
     },
     "execution_count": 11,
     "metadata": {},
     "output_type": "execute_result"
    }
   ],
   "source": [
    "IAA.corpus_agreement(df1,df2)[0]"
   ]
  },
  {
   "cell_type": "markdown",
   "id": "9bbb95e6",
   "metadata": {},
   "source": [
    "## Corpus Agreement between two lists of lists/tuples of entities/spans"
   ]
  },
  {
   "cell_type": "markdown",
   "id": "9ea6eb4e",
   "metadata": {},
   "source": [
    "You can also manually make lists of all the spans/entities in a spacy document and pass that to corpus agreement."
   ]
  },
  {
   "cell_type": "code",
   "execution_count": 12,
   "id": "3c4a2889",
   "metadata": {},
   "outputs": [
    {
     "data": {
      "text/html": [
       "<div>\n",
       "<style scoped>\n",
       "    .dataframe tbody tr th:only-of-type {\n",
       "        vertical-align: middle;\n",
       "    }\n",
       "\n",
       "    .dataframe tbody tr th {\n",
       "        vertical-align: top;\n",
       "    }\n",
       "\n",
       "    .dataframe thead th {\n",
       "        text-align: right;\n",
       "    }\n",
       "</style>\n",
       "<table border=\"1\" class=\"dataframe\">\n",
       "  <thead>\n",
       "    <tr style=\"text-align: right;\">\n",
       "      <th></th>\n",
       "      <th>IAA</th>\n",
       "      <th>Recall</th>\n",
       "      <th>Precision</th>\n",
       "      <th>True Positives</th>\n",
       "      <th>False Positives</th>\n",
       "      <th>False Negative</th>\n",
       "    </tr>\n",
       "  </thead>\n",
       "  <tbody>\n",
       "    <tr>\n",
       "      <th>0</th>\n",
       "      <td>0.8</td>\n",
       "      <td>0.666667</td>\n",
       "      <td>1.0</td>\n",
       "      <td>2</td>\n",
       "      <td>1</td>\n",
       "      <td>0</td>\n",
       "    </tr>\n",
       "  </tbody>\n",
       "</table>\n",
       "</div>"
      ],
      "text/plain": [
       "   IAA    Recall  Precision  True Positives  False Positives  False Negative\n",
       "0  0.8  0.666667        1.0               2                1               0"
      ]
     },
     "execution_count": 12,
     "metadata": {},
     "output_type": "execute_result"
    }
   ],
   "source": [
    "IAA.corpus_agreement([doc1.ents],[doc2.ents])[0]"
   ]
  },
  {
   "cell_type": "markdown",
   "id": "4033d389",
   "metadata": {},
   "source": [
    "## Arguments for corpus_agreement\n",
    "\n",
    "'corpus_agreement' can also take other arguments to be more flexible with other IAA methods. Below are the arguments:\n",
    "\n",
    "### corpus_agreement(docs1, docs2, loose=1, labels=1,ent_or_span='ent',attributes=[ ])\n",
    "\n",
    "__docs1__: Either a list of spacy documents, list containing inner tuples/lists of entities/spans, list of spangroups, or dataframe with proper column names. Considered the golden/reference annotation for tp,fp,fn.\n",
    "    \n",
    "__docs2__: Expects the same types of inputs as docs1. Either a list of spacy documents, list of tuples/lists of entities/spans, list of spangroups, or a dataframe.\n",
    "\n",
    "__loose__: Boolean. 1 indicates to consider any overlap between entities character spans. 0 indicates to only consider exact matches.\n",
    "\n",
    "__labels__: Boolean. 1 indicates to consider entity labels as matching criteria.\n",
    "\n",
    "__ent_or_span__: String of either 'ent' or 'span'. 'ent' indicates to extract doc1 and doc2's 'doc.ents'. 'span' indicates to \n",
    "    extract doc1 and doc2s' spans within each spangroup. This argument is only relevant if passing in a list of spacy\n",
    "    documents (ie. can be ignored if passing in a list of tuple/list of ents/spans/spangroups or dataframe).\n",
    "    \n",
    "__attributes__: List containing column names. These columns will be compared between the two annotations as additional matching criteria and included in the returned dataframe (second element returned by corpus_agreement, explained below). Note: there is currently no way to include the attributes in the returned dataframe without including the attributes as matching criteria for the IAA calculations. If you would like the returned dataframe to include certain attributes, but calculate the IAA without comparing the attributes, you must run two separate instances of corpus_agreement: one with the appropriate attributes argument to get the dataframe with attributes, and two without without attributes argument to get the IAA calculation."
   ]
  },
  {
   "cell_type": "code",
   "execution_count": 13,
   "id": "f207362f",
   "metadata": {},
   "outputs": [
    {
     "data": {
      "text/html": [
       "<div>\n",
       "<style scoped>\n",
       "    .dataframe tbody tr th:only-of-type {\n",
       "        vertical-align: middle;\n",
       "    }\n",
       "\n",
       "    .dataframe tbody tr th {\n",
       "        vertical-align: top;\n",
       "    }\n",
       "\n",
       "    .dataframe thead th {\n",
       "        text-align: right;\n",
       "    }\n",
       "</style>\n",
       "<table border=\"1\" class=\"dataframe\">\n",
       "  <thead>\n",
       "    <tr style=\"text-align: right;\">\n",
       "      <th></th>\n",
       "      <th>IAA</th>\n",
       "      <th>Recall</th>\n",
       "      <th>Precision</th>\n",
       "      <th>True Positives</th>\n",
       "      <th>False Positives</th>\n",
       "      <th>False Negative</th>\n",
       "    </tr>\n",
       "  </thead>\n",
       "  <tbody>\n",
       "    <tr>\n",
       "      <th>0</th>\n",
       "      <td>0.8</td>\n",
       "      <td>0.666667</td>\n",
       "      <td>1.0</td>\n",
       "      <td>2</td>\n",
       "      <td>1</td>\n",
       "      <td>0</td>\n",
       "    </tr>\n",
       "  </tbody>\n",
       "</table>\n",
       "</div>"
      ],
      "text/plain": [
       "   IAA    Recall  Precision  True Positives  False Positives  False Negative\n",
       "0  0.8  0.666667        1.0               2                1               0"
      ]
     },
     "execution_count": 13,
     "metadata": {},
     "output_type": "execute_result"
    }
   ],
   "source": [
    "IAA.corpus_agreement([doc1],[doc2],loose=0,labels=0,attributes=['is_historical','is_negated'])[0]"
   ]
  },
  {
   "cell_type": "markdown",
   "id": "ca82b686",
   "metadata": {},
   "source": [
    "## The returned dataframe with mappings\n",
    "\n",
    "The second element that is returned by *corpus_agreement* is a dataframe containing relevant information on all entities between the two documents, including information on matches and matching criteria.\n",
    "\n",
    "Here is an example of what this dataframe looks like:"
   ]
  },
  {
   "cell_type": "code",
   "execution_count": 14,
   "id": "19fedcbf",
   "metadata": {},
   "outputs": [
    {
     "data": {
      "text/html": [
       "<div>\n",
       "<style scoped>\n",
       "    .dataframe tbody tr th:only-of-type {\n",
       "        vertical-align: middle;\n",
       "    }\n",
       "\n",
       "    .dataframe tbody tr th {\n",
       "        vertical-align: top;\n",
       "    }\n",
       "\n",
       "    .dataframe thead th {\n",
       "        text-align: right;\n",
       "    }\n",
       "</style>\n",
       "<table border=\"1\" class=\"dataframe\">\n",
       "  <thead>\n",
       "    <tr style=\"text-align: right;\">\n",
       "      <th></th>\n",
       "      <th>doc name</th>\n",
       "      <th>Annotation_1</th>\n",
       "      <th>Annotation_2</th>\n",
       "      <th>Annot_1_label</th>\n",
       "      <th>Annot_1_char</th>\n",
       "      <th>Annot_2_label</th>\n",
       "      <th>Annot_2_char</th>\n",
       "      <th>Overall_start_char</th>\n",
       "      <th>Exact Match?</th>\n",
       "      <th>Duplicate Matches?</th>\n",
       "      <th>Overlap?</th>\n",
       "    </tr>\n",
       "  </thead>\n",
       "  <tbody>\n",
       "    <tr>\n",
       "      <th>0</th>\n",
       "      <td>0</td>\n",
       "      <td>utah</td>\n",
       "      <td>utah</td>\n",
       "      <td>GPE</td>\n",
       "      <td>23-27</td>\n",
       "      <td>GPE</td>\n",
       "      <td>23-27</td>\n",
       "      <td>23</td>\n",
       "      <td>1</td>\n",
       "      <td>0</td>\n",
       "      <td>1</td>\n",
       "    </tr>\n",
       "    <tr>\n",
       "      <th>1</th>\n",
       "      <td>0</td>\n",
       "      <td>mississippi</td>\n",
       "      <td>mississippi</td>\n",
       "      <td>GPE</td>\n",
       "      <td>29-40</td>\n",
       "      <td>GPE</td>\n",
       "      <td>29-40</td>\n",
       "      <td>29</td>\n",
       "      <td>1</td>\n",
       "      <td>0</td>\n",
       "      <td>1</td>\n",
       "    </tr>\n",
       "    <tr>\n",
       "      <th>2</th>\n",
       "      <td>0</td>\n",
       "      <td></td>\n",
       "      <td>lake city</td>\n",
       "      <td></td>\n",
       "      <td></td>\n",
       "      <td>GPE</td>\n",
       "      <td>51-60</td>\n",
       "      <td>51</td>\n",
       "      <td>0</td>\n",
       "      <td>0</td>\n",
       "      <td>0</td>\n",
       "    </tr>\n",
       "  </tbody>\n",
       "</table>\n",
       "</div>"
      ],
      "text/plain": [
       "  doc name Annotation_1 Annotation_2 Annot_1_label Annot_1_char Annot_2_label  \\\n",
       "0        0         utah         utah           GPE        23-27           GPE   \n",
       "1        0  mississippi  mississippi           GPE        29-40           GPE   \n",
       "2        0                 lake city                                      GPE   \n",
       "\n",
       "  Annot_2_char Overall_start_char Exact Match? Duplicate Matches? Overlap?  \n",
       "0        23-27                 23            1                  0        1  \n",
       "1        29-40                 29            1                  0        1  \n",
       "2        51-60                 51            0                  0        0  "
      ]
     },
     "execution_count": 14,
     "metadata": {},
     "output_type": "execute_result"
    }
   ],
   "source": [
    "IAA.corpus_agreement(df1,df2,loose=1,labels=1)[1]"
   ]
  },
  {
   "cell_type": "markdown",
   "id": "dc2590d0",
   "metadata": {},
   "source": [
    "The dataframe returns a row for every entity included in the input dataframes. If entities match between both annotations, the relevant entities will be included in the same row. If an entity is included in one document, but not the other, the columns for the other annotation will be left blank.\n",
    "\n",
    "Here are the descriptions of the columns within this dataframe:\n",
    "\n",
    "__doc name__: Name of document from which entity(s) came from. Derived from the doc name of the input dataframe.\n",
    "\n",
    "__Annotation_1__: Entity text from annotation 1.\n",
    "\n",
    "__Annotation_2__: Entity text from annotation 2.\n",
    "\n",
    "__Annot_1_label__: The label of the entity from annotation 1.\n",
    "\n",
    "__Annot_1_char__: Character positions of annotation 1.\n",
    "\n",
    "__Annot_2_label__: The label of the entity from annotation 2.\n",
    "\n",
    "__Annot_2_char__: Character positions of annotation 2.\n",
    "\n",
    "__Overall_start_char__: The earliest starting character position between the two entities. Used to sort the entities within each document.\n",
    "\n",
    "__Exact Match?__: Boolean indicating if there is an exact match between entities starting and ending characters for matched entities within the row. (Note that this does not include exact matches of labels and attributes, unlike the case when label=0)\n",
    "\n",
    "__Duplicate Matches?__: Boolean indicate if an entity included in the row matches multiple entities of the other annotation.\n",
    "\n",
    "__Overlap?__: Boolean indicating if there is any overlap (ie. match) between entities in this row. In other words, this will be a 1 if there is at least one entity in Annotation_1 and at least one entity in Annotation_2.\n",
    "\n",
    "__A1_... or A2_...__ : Attributes for Annotation 1 and Annotation 2. These are returned as A1 or A2, representing Annotation 1 or 2, followed by the attribute name."
   ]
  },
  {
   "cell_type": "markdown",
   "id": "eda6e49e",
   "metadata": {},
   "source": [
    "## Other functionality and specifics for calculation of tp,fp,fn"
   ]
  },
  {
   "cell_type": "markdown",
   "id": "3324663f",
   "metadata": {},
   "source": [
    "Internally, corpus_agreement is figuring out what input you gave it (dataframes, lists of documents, or lists of lists/tuples of spans/entities). For lists of documents and lists of lists/tuples of spans/entities, the helper function *extract_ents()* is used to convert this to a properly formatted dataframe.\n",
    "\n",
    "corpus_agreement then calls the *overlaps()* (for __loose=1__) or *exact_match()* function, which returns 2 dictionaries with mappings of all matched entities/spans. These dictionaries are used to calculate the true positives, false positives, and false negatives using the 'conf_matrix' function.\n",
    "\n",
    "corpus_agreement then uses tp,fp,fn to calculate precision, recall, and f1 (using 'pairwise_f1' function).\n",
    "\n",
    "*corpus_agreement* will then call *create_agreement_df*, which uses the dictionary mappings and initial dataframes to construct the returned dataframe (containing the entity information and matches).\n",
    "\n",
    "Lets try using these other functions individually!"
   ]
  },
  {
   "cell_type": "markdown",
   "id": "2a36d330",
   "metadata": {},
   "source": [
    "### *extract_ents*\n",
    "\n",
    "This function accepts the same arguments as *corpus_agreement*, other than the inapplicable 'loose' argument. It then returns 2 dataframes properly structured for overlap functions.\n",
    "\n",
    "Notes: \n",
    "\n",
    "-The 'attributes' argument currently has no effect on output for this function, but will in a future iteration. \n",
    "\n",
    "-If you use __ent_or_span='span'__, a column is returned with the spangroup keys. By default, corpus_agreement does not compare span group names when comparing entities between each pair of documents. However, you can use extract_ents to get the dataframes with span group keys for each span, then pass the returned dataframes into corpus_agreement, along with the 'Span Group key' column within the attributes argument (eg. attributes=['Span Group key']). This can act as a work-around."
   ]
  },
  {
   "cell_type": "code",
   "execution_count": 15,
   "id": "acde00bd",
   "metadata": {},
   "outputs": [
    {
     "data": {
      "text/html": [
       "<div>\n",
       "<style scoped>\n",
       "    .dataframe tbody tr th:only-of-type {\n",
       "        vertical-align: middle;\n",
       "    }\n",
       "\n",
       "    .dataframe tbody tr th {\n",
       "        vertical-align: top;\n",
       "    }\n",
       "\n",
       "    .dataframe thead th {\n",
       "        text-align: right;\n",
       "    }\n",
       "</style>\n",
       "<table border=\"1\" class=\"dataframe\">\n",
       "  <thead>\n",
       "    <tr style=\"text-align: right;\">\n",
       "      <th></th>\n",
       "      <th>doc name</th>\n",
       "      <th>Span Text</th>\n",
       "      <th>start loc</th>\n",
       "      <th>end loc</th>\n",
       "      <th>Concept Label</th>\n",
       "    </tr>\n",
       "  </thead>\n",
       "  <tbody>\n",
       "    <tr>\n",
       "      <th>0</th>\n",
       "      <td>0</td>\n",
       "      <td>utah</td>\n",
       "      <td>23</td>\n",
       "      <td>27</td>\n",
       "      <td>GPE</td>\n",
       "    </tr>\n",
       "    <tr>\n",
       "      <th>1</th>\n",
       "      <td>0</td>\n",
       "      <td>mississippi</td>\n",
       "      <td>29</td>\n",
       "      <td>40</td>\n",
       "      <td>GPE</td>\n",
       "    </tr>\n",
       "  </tbody>\n",
       "</table>\n",
       "</div>"
      ],
      "text/plain": [
       "   doc name    Span Text  start loc  end loc Concept Label\n",
       "0         0         utah         23       27           GPE\n",
       "1         0  mississippi         29       40           GPE"
      ]
     },
     "execution_count": 15,
     "metadata": {},
     "output_type": "execute_result"
    }
   ],
   "source": [
    "df1,df2 = IAA.extract_ents([doc1],[doc2],labels=1,ent_or_span='ent',attributes=[])\n",
    "df1"
   ]
  },
  {
   "cell_type": "code",
   "execution_count": 16,
   "id": "3d615a3f",
   "metadata": {},
   "outputs": [
    {
     "data": {
      "text/html": [
       "<div>\n",
       "<style scoped>\n",
       "    .dataframe tbody tr th:only-of-type {\n",
       "        vertical-align: middle;\n",
       "    }\n",
       "\n",
       "    .dataframe tbody tr th {\n",
       "        vertical-align: top;\n",
       "    }\n",
       "\n",
       "    .dataframe thead th {\n",
       "        text-align: right;\n",
       "    }\n",
       "</style>\n",
       "<table border=\"1\" class=\"dataframe\">\n",
       "  <thead>\n",
       "    <tr style=\"text-align: right;\">\n",
       "      <th></th>\n",
       "      <th>doc name</th>\n",
       "      <th>Span Text</th>\n",
       "      <th>start loc</th>\n",
       "      <th>end loc</th>\n",
       "      <th>Concept Label</th>\n",
       "    </tr>\n",
       "  </thead>\n",
       "  <tbody>\n",
       "    <tr>\n",
       "      <th>0</th>\n",
       "      <td>0</td>\n",
       "      <td>utah</td>\n",
       "      <td>23</td>\n",
       "      <td>27</td>\n",
       "      <td>GPE</td>\n",
       "    </tr>\n",
       "    <tr>\n",
       "      <th>1</th>\n",
       "      <td>0</td>\n",
       "      <td>mississippi</td>\n",
       "      <td>29</td>\n",
       "      <td>40</td>\n",
       "      <td>GPE</td>\n",
       "    </tr>\n",
       "    <tr>\n",
       "      <th>2</th>\n",
       "      <td>0</td>\n",
       "      <td>lake city</td>\n",
       "      <td>51</td>\n",
       "      <td>60</td>\n",
       "      <td>GPE</td>\n",
       "    </tr>\n",
       "  </tbody>\n",
       "</table>\n",
       "</div>"
      ],
      "text/plain": [
       "   doc name    Span Text  start loc  end loc Concept Label\n",
       "0         0         utah         23       27           GPE\n",
       "1         0  mississippi         29       40           GPE\n",
       "2         0    lake city         51       60           GPE"
      ]
     },
     "execution_count": 16,
     "metadata": {},
     "output_type": "execute_result"
    }
   ],
   "source": [
    "df2"
   ]
  },
  {
   "cell_type": "markdown",
   "id": "4144eaf2",
   "metadata": {},
   "source": [
    "### *overlaps*"
   ]
  },
  {
   "cell_type": "code",
   "execution_count": 17,
   "id": "76edbe15",
   "metadata": {},
   "outputs": [
    {
     "data": {
      "text/plain": [
       "({0: [0], 1: [1]}, {0: [0], 1: [1]})"
      ]
     },
     "execution_count": 17,
     "metadata": {},
     "output_type": "execute_result"
    }
   ],
   "source": [
    "mapping_dictionaries = IAA.overlaps(df1,df2)\n",
    "mapping_dictionaries"
   ]
  },
  {
   "cell_type": "markdown",
   "id": "50e901fc",
   "metadata": {},
   "source": [
    "### *conf_matrix* \n",
    "This uses mapping dictionaries and the amount of entities to calculate tp,fp,fn. The exact calculations used are described in a below section"
   ]
  },
  {
   "cell_type": "code",
   "execution_count": 18,
   "id": "fda6cd22",
   "metadata": {},
   "outputs": [
    {
     "name": "stdout",
     "output_type": "stream",
     "text": [
      "2 1 0\n"
     ]
    }
   ],
   "source": [
    "tp,fp,fn = IAA.conf_matrix(mapping_dictionaries[0],mapping_dictionaries[1],len(doc1.ents),len(doc2.ents))\n",
    "print(tp,fp,fn)"
   ]
  },
  {
   "cell_type": "markdown",
   "id": "9039f93c",
   "metadata": {},
   "source": [
    "### *pairwise_f1*\n",
    "Finally, tp,fp,fn can be used to calculate pairwise f1."
   ]
  },
  {
   "cell_type": "code",
   "execution_count": 19,
   "id": "00b8e836",
   "metadata": {},
   "outputs": [
    {
     "data": {
      "text/plain": [
       "0.8"
      ]
     },
     "execution_count": 19,
     "metadata": {},
     "output_type": "execute_result"
    }
   ],
   "source": [
    "IAA.pairwise_f1(tp,fp,fn)"
   ]
  },
  {
   "cell_type": "markdown",
   "id": "d2768ad3",
   "metadata": {},
   "source": [
    "### Calculations for true positives (tp), false positives (fp), and false negatives (fn) based on mappings\n",
    "\n",
    "Below is a description of the calculations that go into tp, fp, and fn. The high level description is given first, followed by the technical description and an example.\n",
    "\n",
    "Note that annotation 1 is considered the golden/reference standard."
   ]
  },
  {
   "cell_type": "markdown",
   "id": "93940a75",
   "metadata": {},
   "source": [
    "__True Positives (tp):__\n",
    "\n",
    "<u>High level:</u> \n",
    "\n",
    "tp describes the amount of annotations in the reference standard (annotation_1) that have a match in annotation 2 (either overlapping character spans or only exact matches of character spans depending on user input). This is the equivalent of the amount of keys in annotation_1's mapping dictionary, since keys are only placed in the mapping dictionary if there is at least one match with the other annotations.\n",
    "\n",
    "*However*, an exception to this rule is the case where two or more entities in annotation_1 match the same entity in annotation_2. In these cases, we do not double count the \"duplicate\" matches as multiple true positives. To counteract this, we look at annotation_2's mapping dictionary for cases where an annotation in annotation_2 maps to multiple annotations in annotation_1. We use this information to subtract out the duplicated matches. In other words, if 2 or more annotations from annotation_1 maps to the same entity in annotation_2, this will only count as 1 tp, 0 fp, and 0 fn.\n",
    "\n",
    "If one entity from annotation_1 maps to several annotations in annotation_2, this also counts as 1 tp, 0 fp, and 0 fn.\n",
    "\n",
    "<u>Technical description:</u>\n",
    "\n",
    "tp = doc1_match_num - duplicate_matches\n",
    "\n",
    "where doc1_match_num is the amount (\"len()\") of keys in the mapping dictionary for annotation_1, and duplicate_matches is the sum of the lengths of all lists in annotation_2's mapping dictionary's values minus the length of keys in annotation 2's mapping dictionary. \n",
    "\n",
    "<u>Example:</u>\n",
    "\n",
    "For example, if annotation_1's mapping dictionary is \"{1: [4],2:[4],3, [9,10]}\" and is called annot1_mapping, and annot2_mapping is \"{4:[1,2],9:[3],10:[3]}\", then the length of keys in annotation_1 would be len(annot1_mapping.keys()) = 3, and annot2_mapping's values minus the length of keys would be 2 (for \"len([1,2])\") + 1 (for \"len([3])\") + 1 (for \"len([3])\") - 3 (one for each key -- \"4\", \"9\", and \"10\"), for a total of 1. Altogether, this is 3-1=2 for tp.\n",
    "\n",
    "__False Positives (fp):__\n",
    "\n",
    "<u>High level:</u>\n",
    "\n",
    "fp describes the amount of annotations in annotation_2 that did not match an annotation in annotation_1. This can be described as the total amount of annotations made in annotation_2, minus the number of annotations in annotation_2 that matched.\n",
    "\n",
    "<u>Technical Description:</u>\n",
    "\n",
    "fp = doc2_ent_num - doc2_match_num\n",
    "\n",
    "where doc2_match_num is the amount of total annotations (entities) in annotation_2, and doc2_match_num is the amount (\"len()\") of keys in the mapping dictionary for annotation_2.\n",
    "\n",
    "<u>Example:</u>\n",
    "\n",
    "If there were 10 annotations made in annotation_2, and the mapping dictionary is \"{4:[1,2],9:[3],10:[3]}\", then fp would be 10 - 3 (\"len({4:[1,2],9:[3],10:[3]})\") = 7.\n",
    "\n",
    "__False Negatives (fn):__\n",
    "\n",
    "<u>High level:</u>\n",
    "\n",
    "fn describes the amount of annotations in annotation_1 that did not match an annotation in annotation_2. This can be described as the total amount of annotations made in annotation_1, minus the amount of annotations in annotation_1 that matched.\n",
    "\n",
    "<u>Technical Description:</u>\n",
    "\n",
    "fn = doc1_ent_num - doc1_match_num\n",
    "\n",
    "where doc1_match_num is the amount of total annotations (entities) in annotation_1, and doc1_match_num is the amount (\"len()\") of keys in the mapping dictionary for annotation_1.\n",
    "\n",
    "<u>Example:</u>\n",
    "\n",
    "If there were 10 annotations made in annotation_1, and the mapping dictionary is \"{4:[1,2],9:[3],10:[3]}\", then fn would be 10 - 3 (\"len({4:[1,2],9:[3],10:[3]})\") = 7."
   ]
  }
 ],
 "metadata": {
  "kernelspec": {
   "display_name": "Python [conda env:python3.8]",
   "language": "python",
   "name": "conda-env-python3.8-py"
  },
  "language_info": {
   "codemirror_mode": {
    "name": "ipython",
    "version": 3
   },
   "file_extension": ".py",
   "mimetype": "text/x-python",
   "name": "python",
   "nbconvert_exporter": "python",
   "pygments_lexer": "ipython3",
   "version": "3.8.13"
  }
 },
 "nbformat": 4,
 "nbformat_minor": 5
}
