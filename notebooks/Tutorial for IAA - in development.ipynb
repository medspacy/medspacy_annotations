{
 "cells": [
  {
   "cell_type": "markdown",
   "id": "43463bee",
   "metadata": {},
   "source": [
    "# Tutorial"
   ]
  },
  {
   "cell_type": "markdown",
   "id": "ef71d739",
   "metadata": {},
   "source": [
    "In this tutorial I will go over the basic, front-end usage of calculating IAA between 2 annotators."
   ]
  },
  {
   "cell_type": "markdown",
   "id": "e02e83f2",
   "metadata": {},
   "source": [
    "## Corpus agreement between two lists of spacy documents"
   ]
  },
  {
   "cell_type": "code",
   "execution_count": 2,
   "id": "fb664d9b",
   "metadata": {},
   "outputs": [],
   "source": [
    "import spacy\n",
    "import medspacy\n",
    "import pandas\n",
    "import sys\n",
    "sys.path.insert(1, './Integrated_code/')\n",
    "import IAA_ as IAA"
   ]
  },
  {
   "cell_type": "code",
   "execution_count": 3,
   "id": "4538bb8d",
   "metadata": {},
   "outputs": [
    {
     "name": "stdout",
     "output_type": "stream",
     "text": [
      "doc1.ents:  (utah, mississippi)\n",
      "doc2.ents:  (utah, mississippi, lake city)\n"
     ]
    }
   ],
   "source": [
    "nlp1 = spacy.load(\"en_core_web_sm\")\n",
    "nlp2 = spacy.load(\"en_core_web_md\")\n",
    "#!python -m spacy download en_core_web_sm\n",
    "#!python -m spacy download en_core_web_md\n",
    "\n",
    "#Note for John: Get better examples or make my own entities\n",
    "doc1 = nlp1(\"this is a test document made in utah or mississippi, or salt lake city.\")\n",
    "doc2 = nlp2(\"this is a test document made in utah or mississippi, or salt lake city.\")\n",
    "\n",
    "print('doc1.ents: ',doc1.ents)\n",
    "print('doc2.ents: ',doc2.ents)"
   ]
  },
  {
   "cell_type": "markdown",
   "id": "282f22a6",
   "metadata": {},
   "source": [
    "Above we made two documents using spacy's NER packages. Document 2 added more entities than document 1. Let's calculate the IAA between these documents!"
   ]
  },
  {
   "cell_type": "code",
   "execution_count": 4,
   "id": "f551ab7e",
   "metadata": {},
   "outputs": [
    {
     "data": {
      "text/html": [
       "<div>\n",
       "<style scoped>\n",
       "    .dataframe tbody tr th:only-of-type {\n",
       "        vertical-align: middle;\n",
       "    }\n",
       "\n",
       "    .dataframe tbody tr th {\n",
       "        vertical-align: top;\n",
       "    }\n",
       "\n",
       "    .dataframe thead th {\n",
       "        text-align: right;\n",
       "    }\n",
       "</style>\n",
       "<table border=\"1\" class=\"dataframe\">\n",
       "  <thead>\n",
       "    <tr style=\"text-align: right;\">\n",
       "      <th></th>\n",
       "      <th>IAA</th>\n",
       "      <th>Recall</th>\n",
       "      <th>Precision</th>\n",
       "      <th>True Positives</th>\n",
       "      <th>False Positives</th>\n",
       "      <th>False Negative</th>\n",
       "    </tr>\n",
       "  </thead>\n",
       "  <tbody>\n",
       "    <tr>\n",
       "      <th>0</th>\n",
       "      <td>0.8</td>\n",
       "      <td>0.666667</td>\n",
       "      <td>1.0</td>\n",
       "      <td>2</td>\n",
       "      <td>1</td>\n",
       "      <td>0</td>\n",
       "    </tr>\n",
       "  </tbody>\n",
       "</table>\n",
       "</div>"
      ],
      "text/plain": [
       "   IAA    Recall  Precision  True Positives  False Positives  False Negative\n",
       "0  0.8  0.666667        1.0               2                1               0"
      ]
     },
     "execution_count": 4,
     "metadata": {},
     "output_type": "execute_result"
    }
   ],
   "source": [
    "IAA.corpus_agreement([doc1],[doc2])"
   ]
  },
  {
   "cell_type": "markdown",
   "id": "659963fd",
   "metadata": {},
   "source": [
    "'corpus_agreement' calculates the agreement between two lists of documents, two lists containing inner lists/tuples of entities/spans, or 2 dataframes. Note the brackets around 'doc1' and 'doc2', so they are passed in as lists. This is because corpus_agreement assumes you are passing a lists of documents.\n",
    "\n",
    "Lets look at other inputs for IAA."
   ]
  },
  {
   "cell_type": "markdown",
   "id": "2a1e28bf",
   "metadata": {},
   "source": [
    "## Corpus Agreement between two dataframes\n",
    "\n",
    "corpus_agreement can accept two dataframes (one for each annotation set) provided they are structured correctly. Below are the default column names that the code looks for:\n",
    "\n",
    "__'start loc'__ : column containing starting positions of ents\n",
    "\n",
    "__'end loc'__ : column containing ending positions of ents\n",
    "\n",
    "__'Concept Label'__ : column containing label of ent. Only applicable if labels=1.\n",
    "\n",
    "__'doc name'__ : column containing document name/file name. The code will calculate tp,fp,fn for each document name (ie. the dataframes will be segmented based on document names, then each pair of resultant dataframes are passed along iteratively)\n",
    "\n",
    "In order for the code to read your dataframe, you need to ensure you have the right dataframe structure, including the correct dataframe column names. Alternatively, you can edit the default column name strings the code searches for at the top of the IAA_ code."
   ]
  },
  {
   "cell_type": "code",
   "execution_count": null,
   "id": "608620bc",
   "metadata": {},
   "outputs": [],
   "source": [
    "#IAA.corpus_agreement(df1,df2)"
   ]
  },
  {
   "cell_type": "markdown",
   "id": "9bbb95e6",
   "metadata": {},
   "source": [
    "## Corpus Agreement between two lists of lists/tuples of entities/spans"
   ]
  },
  {
   "cell_type": "markdown",
   "id": "9ea6eb4e",
   "metadata": {},
   "source": [
    "You can also manually make lists of all the spans/entities in a spacy document and pass that to corpus agreement."
   ]
  },
  {
   "cell_type": "code",
   "execution_count": 7,
   "id": "3c4a2889",
   "metadata": {},
   "outputs": [
    {
     "data": {
      "text/plain": [
       "({0: [0], 1: [1]}, {0: [0], 1: [1]})"
      ]
     },
     "execution_count": 7,
     "metadata": {},
     "output_type": "execute_result"
    }
   ],
   "source": [
    "IAA.corpus_agreement([doc1.ents],[doc2.ents])"
   ]
  },
  {
   "cell_type": "markdown",
   "id": "e0734c74",
   "metadata": {},
   "source": [
    "Note that the corpus_agreement internally converts spacy documents into lists of the spans/entities in a document before computing the overlaps. If you do this yourself, you can directly pass the lists to the overlaps function, which will return mapping dictionaries of the entities. We'll talk about this more under 'Other functionality'"
   ]
  },
  {
   "cell_type": "markdown",
   "id": "4033d389",
   "metadata": {},
   "source": [
    "## Arguments for corpus_agreement\n",
    "\n",
    "'corpus_agreement' can also take options to be more flexible with other IAA methods. Below are the arguments:\n",
    "\n",
    "### corpus_agreement(docs1, docs2, loose=1, labels=1,ent_or_span='ent')\n",
    "\n",
    "__docs1__: Either a list of spacy documents, list containing inner tuples/lists of entities/spans, list of spangroups, dataframe.\n",
    "    Considered the golden/correct annotation for fp,fn.\n",
    "    \n",
    "__docs2__: Either a list of spacy documents, list of tuples/lists of entities/spans, list of spangroups, or a dataframe.\n",
    "\n",
    "__loose__: Boolean. 1 indicates to consider any overlap. 0 indicates to only consider exact matches.\n",
    "\n",
    "__labels__: Boolean. 1 indicates to consider labels as matching criteria.\n",
    "\n",
    "__ent_or_span__: String of either 'ent' or 'span'. 'ent' indicates to compare doc.ents between documents. 'span' indicates to \n",
    "    compare doc1's only spangroup (note that doc1 must have only 1 spangroup) with doc2's equivalently named spangroup. This\n",
    "    argument is only relevant if passing in a list of spacy documents (ie. can be ignored if passing in a list of tuple/list \n",
    "    of ents/spans/spangroups or dataframe)"
   ]
  },
  {
   "cell_type": "code",
   "execution_count": 10,
   "id": "f207362f",
   "metadata": {},
   "outputs": [
    {
     "data": {
      "text/html": [
       "<div>\n",
       "<style scoped>\n",
       "    .dataframe tbody tr th:only-of-type {\n",
       "        vertical-align: middle;\n",
       "    }\n",
       "\n",
       "    .dataframe tbody tr th {\n",
       "        vertical-align: top;\n",
       "    }\n",
       "\n",
       "    .dataframe thead th {\n",
       "        text-align: right;\n",
       "    }\n",
       "</style>\n",
       "<table border=\"1\" class=\"dataframe\">\n",
       "  <thead>\n",
       "    <tr style=\"text-align: right;\">\n",
       "      <th></th>\n",
       "      <th>IAA</th>\n",
       "      <th>Recall</th>\n",
       "      <th>Precision</th>\n",
       "      <th>True Positives</th>\n",
       "      <th>False Positives</th>\n",
       "      <th>False Negative</th>\n",
       "    </tr>\n",
       "  </thead>\n",
       "  <tbody>\n",
       "    <tr>\n",
       "      <th>0</th>\n",
       "      <td>0.8</td>\n",
       "      <td>0.666667</td>\n",
       "      <td>1.0</td>\n",
       "      <td>2</td>\n",
       "      <td>1</td>\n",
       "      <td>0</td>\n",
       "    </tr>\n",
       "  </tbody>\n",
       "</table>\n",
       "</div>"
      ],
      "text/plain": [
       "   IAA    Recall  Precision  True Positives  False Positives  False Negative\n",
       "0  0.8  0.666667        1.0               2                1               0"
      ]
     },
     "execution_count": 10,
     "metadata": {},
     "output_type": "execute_result"
    }
   ],
   "source": [
    "IAA.corpus_agreement([doc1],[doc2],loose=0,labels=0)"
   ]
  },
  {
   "cell_type": "markdown",
   "id": "eda6e49e",
   "metadata": {},
   "source": [
    "## Other functionality"
   ]
  },
  {
   "cell_type": "markdown",
   "id": "3324663f",
   "metadata": {},
   "source": [
    "Internally, corpus_agreement is figuring out what input you gave it (dataframes, lists of documents, or lists of lists/tuples of spans/entities). For lists of documents, it uses a helper function to convert the documents into lists of lists/tuples of the document's spans/entities. \n",
    "\n",
    "corpus_agreement then calls an overlap function, which returns a dictionaries with mappings of all matched entities/spans. These dictionaries are used to calculate the true positives, false positives, and false negatives using the 'conf_matrix' function.\n",
    "\n",
    "corpus_agreement then uses tp,fp,fn to calculate precision, recall, and f1 (using 'pairwise_f1').\n",
    "\n",
    "Lets try using these other functions individually."
   ]
  },
  {
   "cell_type": "markdown",
   "id": "4144eaf2",
   "metadata": {},
   "source": [
    "### overlaps() and df_overlaps()"
   ]
  },
  {
   "cell_type": "code",
   "execution_count": 11,
   "id": "76edbe15",
   "metadata": {},
   "outputs": [
    {
     "data": {
      "text/plain": [
       "({0: [0], 1: [1]}, {0: [0], 1: [1]})"
      ]
     },
     "execution_count": 11,
     "metadata": {},
     "output_type": "execute_result"
    }
   ],
   "source": [
    "mapping_dictionaries = IAA.overlaps(doc1.ents,doc2.ents)\n",
    "mapping_dictionaries"
   ]
  },
  {
   "cell_type": "code",
   "execution_count": 15,
   "id": "fda6cd22",
   "metadata": {},
   "outputs": [
    {
     "name": "stdout",
     "output_type": "stream",
     "text": [
      "2 1 0\n"
     ]
    }
   ],
   "source": [
    "tp,fp,fn = IAA.conf_matrix(mapping_dictionaries[0],mapping_dictionaries[1],len(doc1.ents),len(doc2.ents))\n",
    "print(tp,fp,fn)"
   ]
  },
  {
   "cell_type": "code",
   "execution_count": 16,
   "id": "00b8e836",
   "metadata": {},
   "outputs": [
    {
     "data": {
      "text/plain": [
       "0.8"
      ]
     },
     "execution_count": 16,
     "metadata": {},
     "output_type": "execute_result"
    }
   ],
   "source": [
    "IAA.pairwise_f1(tp,fp,fn)"
   ]
  }
 ],
 "metadata": {
  "kernelspec": {
   "display_name": "Python [conda env:python3.8]",
   "language": "python",
   "name": "conda-env-python3.8-py"
  },
  "language_info": {
   "codemirror_mode": {
    "name": "ipython",
    "version": 3
   },
   "file_extension": ".py",
   "mimetype": "text/x-python",
   "name": "python",
   "nbconvert_exporter": "python",
   "pygments_lexer": "ipython3",
   "version": "3.8.13"
  }
 },
 "nbformat": 4,
 "nbformat_minor": 5
}
