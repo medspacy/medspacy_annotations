{
 "cells": [
  {
   "cell_type": "markdown",
   "id": "4de8ebf3-c519-41ba-8125-5fe67993a8f0",
   "metadata": {},
   "source": [
    "# EHost annotation to dataframe format for overlapped spans latest Medspacy-io\n",
    "\n",
    "This notebook requires using latest Medspacy-io, you can install it by running:\n",
    "`pip install git+https://github.com/medspacy/medspacy_io.git`"
   ]
  },
  {
   "cell_type": "markdown",
   "id": "c0db22ad-0259-4eec-a36f-35451abab2d9",
   "metadata": {},
   "source": [
    "import os, medspacy_io\n",
    "schema_file = '../mimic_annotations/testEhostReaderData/config/projectschema.xml'\n",
    "doc_dir = '../mimic_annotations/testEhostReaderData/corpus/'\n",
    "anno_dir = '../mimic_annotations/testEhostReaderData/saved/'\n",
    "\n",
    "doc_list = os.listdir(doc_dir)\n",
    "print(len(doc_list),doc_list)"
   ]
  },
  {
   "cell_type": "code",
   "execution_count": 1,
   "id": "da12c218-ebe5-4386-9acc-4d1361f502a9",
   "metadata": {},
   "outputs": [],
   "source": [
    "from spacy.lang.en import English\n",
    "from medspacy_io.reader import EhostDocReader\n",
    "from medspacy_io.reader import EhostDirReader\n",
    "import pandas as pd\n",
    "schema_file = '../Development_and_Testing/tests/problem_data/config/projectschema.xml'\n",
    "doc_dir = '../Development_and_Testing/tests/problem_data/corpus/'\n",
    "anno_dir = '../Development_and_Testing/tests/problem_data/saved/'"
   ]
  },
  {
   "cell_type": "markdown",
   "id": "864918d1-d56e-4833-aa8a-64ede8c33851",
   "metadata": {},
   "source": [
    "We can use the directory reader from the latest `medspacy-io`"
   ]
  },
  {
   "cell_type": "code",
   "execution_count": 2,
   "id": "a42baffe-30bc-4f17-9e85-ec6c00493b4c",
   "metadata": {},
   "outputs": [],
   "source": [
    "dir_reader = EhostDirReader(nlp=English(), support_overlap=True,recursive=True, schema_file=schema_file)\n",
    "docs = dir_reader.read(txt_dir=doc_dir)"
   ]
  },
  {
   "cell_type": "code",
   "execution_count": 3,
   "id": "2982bd65-d86b-4b29-9150-2cf34c166b24",
   "metadata": {},
   "outputs": [
    {
     "name": "stdout",
     "output_type": "stream",
     "text": [
      "['SectionHeader_HasSymptom', 'Symptom_Section', 'Symptom']\n",
      "problem_doc.txt\n"
     ]
    }
   ],
   "source": [
    "data = []\n",
    "for doc in docs:\n",
    "    doc_concepts_list = doc._.concepts #now it is a list to used as key to extract SpanGroup\n",
    "    for concept in doc_concepts_list:\n",
    "        for sp in doc.spans[concept]: # iterate spans in certain spanGroup\n",
    "            dicElem = {}\n",
    "            dicElem['Span Text'] = sp.text\n",
    "            dicElem['Concept Label'] = sp.label_\n",
    "            dicElem['start loc'] = sp.start_char\n",
    "            dicElem['end loc'] = sp.end_char\n",
    "            dicElem['doc name'] = doc._.doc_name\n",
    "            data.append(dicElem)\n",
    "            \n",
    "    print(doc_concepts_list)\n",
    "    print(doc._.doc_name)"
   ]
  },
  {
   "cell_type": "code",
   "execution_count": 4,
   "id": "f9ecb751-7caf-48cd-a0ff-5e5a0f363bc9",
   "metadata": {},
   "outputs": [
    {
     "data": {
      "text/html": [
       "<div>\n",
       "<style scoped>\n",
       "    .dataframe tbody tr th:only-of-type {\n",
       "        vertical-align: middle;\n",
       "    }\n",
       "\n",
       "    .dataframe tbody tr th {\n",
       "        vertical-align: top;\n",
       "    }\n",
       "\n",
       "    .dataframe thead th {\n",
       "        text-align: right;\n",
       "    }\n",
       "</style>\n",
       "<table border=\"1\" class=\"dataframe\">\n",
       "  <thead>\n",
       "    <tr style=\"text-align: right;\">\n",
       "      <th></th>\n",
       "      <th>Span Text</th>\n",
       "      <th>Concept Label</th>\n",
       "      <th>start loc</th>\n",
       "      <th>end loc</th>\n",
       "      <th>doc name</th>\n",
       "    </tr>\n",
       "  </thead>\n",
       "  <tbody>\n",
       "    <tr>\n",
       "      <th>0</th>\n",
       "      <td>2010</td>\n",
       "      <td>SectionHeader_HasSymptom</td>\n",
       "      <td>45</td>\n",
       "      <td>49</td>\n",
       "      <td>problem_doc.txt</td>\n",
       "    </tr>\n",
       "    <tr>\n",
       "      <th>1</th>\n",
       "      <td>Veteran states that he is nauseous, provider i...</td>\n",
       "      <td>Symptom_Section</td>\n",
       "      <td>50</td>\n",
       "      <td>105</td>\n",
       "      <td>problem_doc.txt</td>\n",
       "    </tr>\n",
       "    <tr>\n",
       "      <th>2</th>\n",
       "      <td>nauseous</td>\n",
       "      <td>Symptom</td>\n",
       "      <td>76</td>\n",
       "      <td>84</td>\n",
       "      <td>problem_doc.txt</td>\n",
       "    </tr>\n",
       "  </tbody>\n",
       "</table>\n",
       "</div>"
      ],
      "text/plain": [
       "                                           Span Text  \\\n",
       "0                                               2010   \n",
       "1  Veteran states that he is nauseous, provider i...   \n",
       "2                                           nauseous   \n",
       "\n",
       "              Concept Label  start loc  end loc         doc name  \n",
       "0  SectionHeader_HasSymptom         45       49  problem_doc.txt  \n",
       "1           Symptom_Section         50      105  problem_doc.txt  \n",
       "2                   Symptom         76       84  problem_doc.txt  "
      ]
     },
     "execution_count": 4,
     "metadata": {},
     "output_type": "execute_result"
    }
   ],
   "source": [
    "df = pd.DataFrame(data)\n",
    "\n",
    "df"
   ]
  },
  {
   "cell_type": "markdown",
   "id": "c347fb28-5185-4084-a548-56007fe32daa",
   "metadata": {},
   "source": [
    "# If directory reader does not work, we us `os` to list the files and readin one by one"
   ]
  },
  {
   "cell_type": "code",
   "execution_count": 5,
   "id": "b9ad8a1a-d767-4e91-82bc-5b9ea586f74a",
   "metadata": {},
   "outputs": [
    {
     "name": "stdout",
     "output_type": "stream",
     "text": [
      "50 ['485939.txt', '366026.txt', '5585.txt', '669731.txt', '33200.txt', '36609.txt', '335643.txt', '52374.txt', '38580.txt', '601884.txt', '38757.txt', '416614.txt', '45725.txt', '56773.txt', '19070.txt', '628045.txt', '45509.txt', '527735.txt', '439912.txt', '457012.txt', '595179.txt', '575514.txt', '28056.txt', '655523.txt', '537108.txt', '33137.txt', '330814.txt', '18826.txt', '700062.txt', '26272.txt', '321062.txt', '584041.txt', '369557.txt', '679566.txt', '593885.txt', '379.txt', '489228.txt', '24881.txt', '377554.txt', '700799.txt', '26388.txt', '330335.txt', '18305.txt', '375911.txt', '345622.txt', '346854.txt', '536291.txt', '456788.txt', '5749.txt', '3271.txt']\n"
     ]
    }
   ],
   "source": [
    "import os, medspacy_io\n",
    "schema_file = '../mimic_annotations/testEhostReaderData/config/projectschema.xml'\n",
    "doc_dir = '../mimic_annotations/testEhostReaderData/corpus/'\n",
    "anno_dir = '../mimic_annotations/testEhostReaderData/saved/'\n",
    "\n",
    "doc_list = os.listdir(doc_dir)\n",
    "print(len(doc_list),doc_list)\n",
    "\n",
    "from spacy.lang.en import English\n",
    "from medspacy_io.reader import EhostDocReader\n",
    "from medspacy_io.reader import EhostDirReader\n",
    "import pandas as pd\n",
    "ereader = EhostDocReader(nlp=English(), schema_file=schema_file,support_overlap=True)"
   ]
  },
  {
   "cell_type": "code",
   "execution_count": 6,
   "id": "c48a13d1-8fee-49bb-bf21-56c0a12f396b",
   "metadata": {},
   "outputs": [],
   "source": [
    "#read in annotation\n",
    "data = []\n",
    "for fn in doc_list:\n",
    "    doc = ereader.read(doc_dir+fn)\n",
    "    doc_concepts_list = doc._.concepts #now it is a list to used as key to extract SpanGroup\n",
    "    for concept in doc_concepts_list:\n",
    "        for sp in doc.spans[concept]: # iterate spans in certain spanGroup\n",
    "            dicElem = {}\n",
    "            dicElem['Span Text'] = sp.text\n",
    "            dicElem['Concept Label'] = sp.label_\n",
    "            dicElem['start loc'] = sp.start_char\n",
    "            dicElem['end loc'] = sp.end_char\n",
    "            dicElem['doc name'] = fn\n",
    "            data.append(dicElem)\n"
   ]
  },
  {
   "cell_type": "code",
   "execution_count": 7,
   "id": "9d928ac0-01e6-412d-8500-8213813a48c4",
   "metadata": {},
   "outputs": [
    {
     "data": {
      "text/html": [
       "<div>\n",
       "<style scoped>\n",
       "    .dataframe tbody tr th:only-of-type {\n",
       "        vertical-align: middle;\n",
       "    }\n",
       "\n",
       "    .dataframe tbody tr th {\n",
       "        vertical-align: top;\n",
       "    }\n",
       "\n",
       "    .dataframe thead th {\n",
       "        text-align: right;\n",
       "    }\n",
       "</style>\n",
       "<table border=\"1\" class=\"dataframe\">\n",
       "  <thead>\n",
       "    <tr style=\"text-align: right;\">\n",
       "      <th></th>\n",
       "      <th>Span Text</th>\n",
       "      <th>Concept Label</th>\n",
       "      <th>start loc</th>\n",
       "      <th>end loc</th>\n",
       "      <th>doc name</th>\n",
       "    </tr>\n",
       "  </thead>\n",
       "  <tbody>\n",
       "    <tr>\n",
       "      <th>0</th>\n",
       "      <td>respiratory failure</td>\n",
       "      <td>Symptom</td>\n",
       "      <td>103</td>\n",
       "      <td>122</td>\n",
       "      <td>485939.txt</td>\n",
       "    </tr>\n",
       "    <tr>\n",
       "      <th>1</th>\n",
       "      <td>sepsis</td>\n",
       "      <td>Symptom</td>\n",
       "      <td>1171</td>\n",
       "      <td>1177</td>\n",
       "      <td>485939.txt</td>\n",
       "    </tr>\n",
       "    <tr>\n",
       "      <th>2</th>\n",
       "      <td>edema</td>\n",
       "      <td>Symptom</td>\n",
       "      <td>4629</td>\n",
       "      <td>4634</td>\n",
       "      <td>485939.txt</td>\n",
       "    </tr>\n",
       "    <tr>\n",
       "      <th>3</th>\n",
       "      <td>thrombosis</td>\n",
       "      <td>Symptom</td>\n",
       "      <td>370</td>\n",
       "      <td>380</td>\n",
       "      <td>366026.txt</td>\n",
       "    </tr>\n",
       "    <tr>\n",
       "      <th>4</th>\n",
       "      <td>anemia</td>\n",
       "      <td>Symptom</td>\n",
       "      <td>433</td>\n",
       "      <td>439</td>\n",
       "      <td>366026.txt</td>\n",
       "    </tr>\n",
       "    <tr>\n",
       "      <th>...</th>\n",
       "      <td>...</td>\n",
       "      <td>...</td>\n",
       "      <td>...</td>\n",
       "      <td>...</td>\n",
       "      <td>...</td>\n",
       "    </tr>\n",
       "    <tr>\n",
       "      <th>562</th>\n",
       "      <td>left facial droop</td>\n",
       "      <td>Symptom</td>\n",
       "      <td>4378</td>\n",
       "      <td>4395</td>\n",
       "      <td>3271.txt</td>\n",
       "    </tr>\n",
       "    <tr>\n",
       "      <th>563</th>\n",
       "      <td>right gaze deviation</td>\n",
       "      <td>Symptom</td>\n",
       "      <td>4418</td>\n",
       "      <td>4438</td>\n",
       "      <td>3271.txt</td>\n",
       "    </tr>\n",
       "    <tr>\n",
       "      <th>564</th>\n",
       "      <td>difficulty crossing\\nmidline</td>\n",
       "      <td>Symptom</td>\n",
       "      <td>4443</td>\n",
       "      <td>4470</td>\n",
       "      <td>3271.txt</td>\n",
       "    </tr>\n",
       "    <tr>\n",
       "      <th>565</th>\n",
       "      <td>dysarthria</td>\n",
       "      <td>Symptom</td>\n",
       "      <td>6075</td>\n",
       "      <td>6085</td>\n",
       "      <td>3271.txt</td>\n",
       "    </tr>\n",
       "    <tr>\n",
       "      <th>566</th>\n",
       "      <td>swallowing</td>\n",
       "      <td>Symptom</td>\n",
       "      <td>6090</td>\n",
       "      <td>6100</td>\n",
       "      <td>3271.txt</td>\n",
       "    </tr>\n",
       "  </tbody>\n",
       "</table>\n",
       "<p>567 rows × 5 columns</p>\n",
       "</div>"
      ],
      "text/plain": [
       "                        Span Text Concept Label  start loc  end loc  \\\n",
       "0             respiratory failure       Symptom        103      122   \n",
       "1                          sepsis       Symptom       1171     1177   \n",
       "2                           edema       Symptom       4629     4634   \n",
       "3                      thrombosis       Symptom        370      380   \n",
       "4                          anemia       Symptom        433      439   \n",
       "..                            ...           ...        ...      ...   \n",
       "562             left facial droop       Symptom       4378     4395   \n",
       "563          right gaze deviation       Symptom       4418     4438   \n",
       "564  difficulty crossing\\nmidline       Symptom       4443     4470   \n",
       "565                    dysarthria       Symptom       6075     6085   \n",
       "566                    swallowing       Symptom       6090     6100   \n",
       "\n",
       "       doc name  \n",
       "0    485939.txt  \n",
       "1    485939.txt  \n",
       "2    485939.txt  \n",
       "3    366026.txt  \n",
       "4    366026.txt  \n",
       "..          ...  \n",
       "562    3271.txt  \n",
       "563    3271.txt  \n",
       "564    3271.txt  \n",
       "565    3271.txt  \n",
       "566    3271.txt  \n",
       "\n",
       "[567 rows x 5 columns]"
      ]
     },
     "execution_count": 7,
     "metadata": {},
     "output_type": "execute_result"
    }
   ],
   "source": [
    "df = pd.DataFrame(data)\n",
    "df"
   ]
  },
  {
   "cell_type": "code",
   "execution_count": null,
   "id": "89a25184-21c2-4c06-8b48-c660bae70582",
   "metadata": {},
   "outputs": [],
   "source": []
  }
 ],
 "metadata": {
  "kernelspec": {
   "display_name": "Python 3 (ipykernel)",
   "language": "python",
   "name": "python3"
  },
  "language_info": {
   "codemirror_mode": {
    "name": "ipython",
    "version": 3
   },
   "file_extension": ".py",
   "mimetype": "text/x-python",
   "name": "python",
   "nbconvert_exporter": "python",
   "pygments_lexer": "ipython3",
   "version": "3.9.7"
  }
 },
 "nbformat": 4,
 "nbformat_minor": 5
}
