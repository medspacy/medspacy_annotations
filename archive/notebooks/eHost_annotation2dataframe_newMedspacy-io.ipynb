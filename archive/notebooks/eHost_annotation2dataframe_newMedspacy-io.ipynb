{
 "cells": [
  {
   "cell_type": "markdown",
   "id": "4de8ebf3-c519-41ba-8125-5fe67993a8f0",
   "metadata": {},
   "source": [
    "# EHost annotation to dataframe format for overlapped spans latest Medspacy-io\n",
    "\n",
    "This notebook requires using latest Medspacy-io, you can install it by running:\n",
    "`pip install git+https://github.com/medspacy/medspacy_io.git`"
   ]
  },
  {
   "cell_type": "markdown",
   "id": "c0db22ad-0259-4eec-a36f-35451abab2d9",
   "metadata": {},
   "source": [
    "import os, medspacy_io\n",
    "schema_file = '../mimic_annotations/testEhostReaderData/config/projectschema.xml'\n",
    "doc_dir = '../mimic_annotations/testEhostReaderData/corpus/'\n",
    "anno_dir = '../mimic_annotations/testEhostReaderData/saved/'\n",
    "\n",
    "doc_list = os.listdir(doc_dir)\n",
    "print(len(doc_list),doc_list)"
   ]
  },
  {
   "cell_type": "code",
   "execution_count": null,
   "id": "da12c218-ebe5-4386-9acc-4d1361f502a9",
   "metadata": {},
   "outputs": [],
   "source": [
    "from spacy.lang.en import English\n",
    "from medspacy_io.reader import EhostDocReader\n",
    "from medspacy_io.reader import EhostDirReader\n",
    "import pandas as pd\n",
    "schema_file = '../Development_and_Testing/tests/problem_data/config/projectschema.xml' #replace with .xml file\n",
    "doc_dir = '../Development_and_Testing/tests/problem_data/corpus/' #replace with corpus folder\n",
    "anno_dir = '../Development_and_Testing/tests/problem_data/saved/' #replace with saved folder"
   ]
  },
  {
   "cell_type": "markdown",
   "id": "864918d1-d56e-4833-aa8a-64ede8c33851",
   "metadata": {},
   "source": [
    "We can use the directory reader from the latest `medspacy-io`"
   ]
  },
  {
   "cell_type": "code",
   "execution_count": null,
   "id": "a42baffe-30bc-4f17-9e85-ec6c00493b4c",
   "metadata": {},
   "outputs": [],
   "source": [
    "dir_reader = EhostDirReader(nlp=English(), support_overlap=True,recursive=True, schema_file=schema_file)\n",
    "docs = dir_reader.read(txt_dir=doc_dir)"
   ]
  },
  {
   "cell_type": "code",
   "execution_count": null,
   "id": "2982bd65-d86b-4b29-9150-2cf34c166b24",
   "metadata": {},
   "outputs": [],
   "source": [
    "data = []\n",
    "for doc in docs:\n",
    "    doc_concepts_list = doc._.concepts #now it is a list to used as key to extract SpanGroup\n",
    "    for concept in doc_concepts_list:\n",
    "        for sp in doc.spans[concept]: # iterate spans in certain spanGroup\n",
    "            dicElem = {}\n",
    "            dicElem['Span Text'] = sp.text\n",
    "            dicElem['Concept Label'] = sp.label_\n",
    "            dicElem['start loc'] = sp.start_char\n",
    "            dicElem['end loc'] = sp.end_char\n",
    "            dicElem['doc name'] = doc._.doc_name\n",
    "            data.append(dicElem)\n",
    "            \n",
    "    print(doc_concepts_list)\n",
    "    print(doc._.doc_name)"
   ]
  },
  {
   "cell_type": "code",
   "execution_count": null,
   "id": "f9ecb751-7caf-48cd-a0ff-5e5a0f363bc9",
   "metadata": {},
   "outputs": [],
   "source": [
    "df = pd.DataFrame(data)\n",
    "\n",
    "df"
   ]
  },
  {
   "cell_type": "markdown",
   "id": "c347fb28-5185-4084-a548-56007fe32daa",
   "metadata": {},
   "source": [
    "# If directory reader does not work, we us `os` to list the files and readin one by one"
   ]
  },
  {
   "cell_type": "code",
   "execution_count": null,
   "id": "b9ad8a1a-d767-4e91-82bc-5b9ea586f74a",
   "metadata": {},
   "outputs": [],
   "source": [
    "import os, medspacy_io\n",
    "schema_file = '../mimic_annotations/testEhostReaderData/config/projectschema.xml'\n",
    "doc_dir = '../mimic_annotations/testEhostReaderData/corpus/'\n",
    "anno_dir = '../mimic_annotations/testEhostReaderData/saved/'\n",
    "\n",
    "doc_list = os.listdir(doc_dir)\n",
    "print(len(doc_list),doc_list)\n",
    "\n",
    "from spacy.lang.en import English\n",
    "from medspacy_io.reader import EhostDocReader\n",
    "from medspacy_io.reader import EhostDirReader\n",
    "import pandas as pd\n",
    "ereader = EhostDocReader(nlp=English(), schema_file=schema_file,support_overlap=True)"
   ]
  },
  {
   "cell_type": "code",
   "execution_count": null,
   "id": "c48a13d1-8fee-49bb-bf21-56c0a12f396b",
   "metadata": {},
   "outputs": [],
   "source": [
    "#read in annotation\n",
    "data = []\n",
    "for fn in doc_list:\n",
    "    doc = ereader.read(doc_dir+fn)\n",
    "    doc_concepts_list = doc._.concepts #now it is a list to used as key to extract SpanGroup\n",
    "    for concept in doc_concepts_list:\n",
    "        for sp in doc.spans[concept]: # iterate spans in certain spanGroup\n",
    "            dicElem = {}\n",
    "            dicElem['Span Text'] = sp.text\n",
    "            dicElem['Concept Label'] = sp.label_\n",
    "            dicElem['start loc'] = sp.start_char\n",
    "            dicElem['end loc'] = sp.end_char\n",
    "            dicElem['doc name'] = fn\n",
    "            data.append(dicElem)\n"
   ]
  },
  {
   "cell_type": "code",
   "execution_count": null,
   "id": "9d928ac0-01e6-412d-8500-8213813a48c4",
   "metadata": {},
   "outputs": [],
   "source": [
    "df = pd.DataFrame(data)\n",
    "df"
   ]
  },
  {
   "cell_type": "code",
   "execution_count": null,
   "id": "89a25184-21c2-4c06-8b48-c660bae70582",
   "metadata": {},
   "outputs": [],
   "source": []
  }
 ],
 "metadata": {
  "kernelspec": {
   "display_name": "Python 3 (ipykernel)",
   "language": "python",
   "name": "python3"
  },
  "language_info": {
   "codemirror_mode": {
    "name": "ipython",
    "version": 3
   },
   "file_extension": ".py",
   "mimetype": "text/x-python",
   "name": "python",
   "nbconvert_exporter": "python",
   "pygments_lexer": "ipython3",
   "version": "3.9.7"
  }
 },
 "nbformat": 4,
 "nbformat_minor": 5
}
