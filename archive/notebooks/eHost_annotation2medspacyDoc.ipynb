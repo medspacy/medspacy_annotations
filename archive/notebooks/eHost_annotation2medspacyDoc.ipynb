{
 "cells": [
  {
   "cell_type": "markdown",
   "id": "b00ccc6c-428a-48c3-9e37-707c4c215660",
   "metadata": {},
   "source": [
    "# Convert Ehost annotation to MedSpacy Document Object medspacy-io-0.1.0.dev34\n",
    "In this note book, we read in annotations and build SpanGroup from overlapped spans. We also build dataframe from annotation for building up OHDSI format database later."
   ]
  },
  {
   "cell_type": "code",
   "execution_count": null,
   "id": "40a21549-d7f4-42e4-8962-c8094a644bf3",
   "metadata": {},
   "outputs": [],
   "source": [
    "import os, medspacy_io\n",
    "from pathlib import Path\n",
    "doc_file = '../Development_and_Testing/mimic_annotations/testEhostReaderData/corpus/18305.txt' #replace with .txt\n",
    "anno_file = '../Development_and_Testing/mimic_annotations/testEhostReaderData/saved/18305.txt.knowtator.xml' #replace with .xml\n",
    "schema_file = '../Development_and_Testing/mimic_annotations/testEhostReaderData/config/projectschema.xml' #replace with .xml for schema"
   ]
  },
  {
   "cell_type": "code",
   "execution_count": null,
   "id": "39a83fd5-8a7c-48ee-ae79-2ff73424953d",
   "metadata": {},
   "outputs": [],
   "source": [
    "print(Path(doc_file).read_text())\n"
   ]
  },
  {
   "cell_type": "code",
   "execution_count": null,
   "id": "6d84e3b0-63ac-4e47-9942-9c22e4b20526",
   "metadata": {},
   "outputs": [],
   "source": [
    "print(Path(anno_file).read_text())"
   ]
  },
  {
   "cell_type": "markdown",
   "id": "6e376e01-2cfb-462a-8b72-26130da69042",
   "metadata": {},
   "source": [
    "# eHost Doc Reader"
   ]
  },
  {
   "cell_type": "code",
   "execution_count": null,
   "id": "22d59b56-404d-47c1-8cc4-2e41ab18e7c3",
   "metadata": {},
   "outputs": [],
   "source": [
    "from spacy.lang.en import English\n",
    "from medspacy_io.reader import EhostDocReader\n",
    "from medspacy_io.reader import EhostDirReader"
   ]
  },
  {
   "cell_type": "markdown",
   "id": "3f9e395c-e40b-43e2-97f7-2f5c07cb525a",
   "metadata": {},
   "source": [
    "## Remark:\n",
    "1. if you are using `support_overlap=True` the spans/annotations will end up in `doc._.concepts` , if you are using `support_overlap=False` they're in `doc.ents`. In our case it is `support_overlap=True`.\n",
    "2. `EhostDocReader` will search default folder according to the directory of data. The data and annotations have to be organized as eHost Project:\n",
    "    1. schema file: `../config/projectsschema.xml`\n",
    "    2. data folder: `../corpus/*.txt`\n",
    "    3. annotation folder: `../saved/*.txt.knowtator.xml`"
   ]
  },
  {
   "cell_type": "code",
   "execution_count": null,
   "id": "e7879006-6119-4b0e-a1e0-4a60d3bf6e29",
   "metadata": {},
   "outputs": [],
   "source": [
    "ereader = EhostDocReader(nlp=English(), schema_file=schema_file,support_overlap=True)\n",
    "print(schema_file,doc_file)\n",
    "doc = ereader.read(doc_file)\n",
    "doc._.concepts"
   ]
  },
  {
   "cell_type": "code",
   "execution_count": null,
   "id": "be179726-db08-47aa-ae32-08dda773fdb2",
   "metadata": {},
   "outputs": [],
   "source": [
    "doc_concepts_dic = doc._.concepts # doc is doc object readin by eHostReader\n",
    "print(doc_concepts_dic)\n",
    "annot_classes = doc_concepts_dic.keys()\n",
    "print(annot_classes)\n",
    "print(len(doc_concepts_dic['Symptom_Section']))\n",
    "\n",
    "\n",
    "#doc.text\n",
    "#re.finditer(testText,doc.text)\n",
    "#for match in re.finditer(doc.text, doc_concepts_dic['Symptom_Section'][0]):\n",
    " #   print(match.start(),match.end())\n",
    "\n"
   ]
  },
  {
   "cell_type": "code",
   "execution_count": null,
   "id": "9fbe81c9-e387-45a1-8a10-b897b166722e",
   "metadata": {},
   "outputs": [],
   "source": [
    "#doc.spans(doc_concepts_dic['Symptom_Section'])\n",
    "testSpan = doc_concepts_dic['Symptom_Section'][1]\n",
    "type(testSpan)\n",
    "print(testSpan.text)\n",
    "print(testSpan.label_)\n",
    "print(testSpan.has_extension)\n",
    "print(testSpan.start_char, testSpan.end_char)"
   ]
  },
  {
   "cell_type": "markdown",
   "id": "013dac67-70f4-4a28-b6ff-40dd90b59ec8",
   "metadata": {},
   "source": [
    "# Build SpanGroup"
   ]
  },
  {
   "cell_type": "code",
   "execution_count": null,
   "id": "a24e6a85-a1e7-49f9-9cfd-cd0f864e2f3e",
   "metadata": {},
   "outputs": [],
   "source": [
    "from spacy.tokens import SpanGroup\n",
    "#doc.spans[\"errors\"] = spans\n",
    "group = SpanGroup(doc, name=\"Symptom_Section\", spans=doc_concepts_dic['Symptom_Section'])\n",
    "doc.spans[\"Symptom_Section\"] = group\n"
   ]
  },
  {
   "cell_type": "raw",
   "id": "050062a3-3cde-4220-b91f-f558d621a515",
   "metadata": {},
   "source": [
    "len(doc.spans[\"Symptom_Section\"])"
   ]
  },
  {
   "cell_type": "code",
   "execution_count": null,
   "id": "ee5a21c0-cfaa-48ff-b6f4-4bdf548dfd9e",
   "metadata": {},
   "outputs": [],
   "source": [
    "type(doc_concepts_dic['Symptom_Section'][0])\n",
    "type(doc.spans[\"Symptom_Section\"])\n",
    "print(len(doc.spans[\"Symptom_Section\"]))\n",
    "assert doc.spans[\"Symptom_Section\"][0]==doc_concepts_dic['Symptom_Section'][0] #the first element in spanGroup is the first element in span list\n",
    "print(doc.spans[\"Symptom_Section\"].has_overlap,doc.spans[\"Symptom_Section\"].__len__)\n",
    "#doc_concepts_dic['Symptom_Section'][0].span_txt"
   ]
  },
  {
   "cell_type": "markdown",
   "id": "94571afe-91b6-4bf0-9f54-428b5e3d756b",
   "metadata": {},
   "source": [
    "# Build OHDSI format database from annotations"
   ]
  },
  {
   "cell_type": "markdown",
   "id": "ee1ff1df-e4b7-463d-a923-3ac24e2a4521",
   "metadata": {},
   "source": [
    "This is based on https://github.com/OHDSI/CommonDataModel/blob/main/inst/ddl/5.4/sql_server/OMOPCDM_sql_server_5.4_ddl.sql"
   ]
  },
  {
   "cell_type": "code",
   "execution_count": null,
   "id": "af833048-4335-4ba3-909b-b590b8dfb332",
   "metadata": {},
   "outputs": [],
   "source": [
    "for concept,listSpan in doc_concepts_dic.items():\n",
    "    print(concept, len(listSpan),listSpan)"
   ]
  },
  {
   "cell_type": "code",
   "execution_count": null,
   "id": "66559985-a36c-4d51-bc88-4da6f4784922",
   "metadata": {},
   "outputs": [],
   "source": [
    "import pandas as pd\n",
    "data = []\n",
    "for concept, listSpan in doc_concepts_dic.items():\n",
    "    for sp in listSpan:\n",
    "        dicElem = {}\n",
    "        dicElem['Span Text'] = sp.text\n",
    "        dicElem['Concept Label'] = sp.label_\n",
    "        dicElem['start loc'] = sp.start_char\n",
    "        dicElem['end loc'] = sp.end_char\n",
    "        dicElem['doc name'] = '18305.txt'\n",
    "        \n",
    "    data.append(dicElem)\n",
    "        \n",
    "   \n",
    "print(data)"
   ]
  },
  {
   "cell_type": "code",
   "execution_count": null,
   "id": "4ae2fdf5-47e6-4e19-8ff2-be3c0cb85d79",
   "metadata": {},
   "outputs": [],
   "source": [
    "df = pd.DataFrame(data)\n",
    "df"
   ]
  },
  {
   "cell_type": "code",
   "execution_count": null,
   "id": "29e11062-3f6d-4b99-bda1-3665a44f9040",
   "metadata": {},
   "outputs": [],
   "source": []
  }
 ],
 "metadata": {
  "kernelspec": {
   "display_name": "Python 3 (ipykernel)",
   "language": "python",
   "name": "python3"
  },
  "language_info": {
   "codemirror_mode": {
    "name": "ipython",
    "version": 3
   },
   "file_extension": ".py",
   "mimetype": "text/x-python",
   "name": "python",
   "nbconvert_exporter": "python",
   "pygments_lexer": "ipython3",
   "version": "3.9.7"
  }
 },
 "nbformat": 4,
 "nbformat_minor": 5
}
