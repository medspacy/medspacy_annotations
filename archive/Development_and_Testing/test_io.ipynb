{
 "cells": [
  {
   "cell_type": "code",
   "execution_count": null,
   "id": "2b5dfd51-15d4-404c-a3cd-57ede6aa92b9",
   "metadata": {},
   "outputs": [],
   "source": [
    "import os, medspacy_io\n",
    "schema_file = '../tests/problem_data/config/projectschema.xml'\n",
    "doc_dir = '../tests/problem_data/corpus/'\n",
    "anno_dir = '../tests/problem_data/saved/'\n",
    "\n",
    "doc_list = os.listdir(doc_dir)\n",
    "print(len(doc_list),doc_list)\n",
    "\n",
    "from spacy.lang.en import English\n",
    "from medspacy_io.reader import EhostDocReader\n",
    "from medspacy_io.reader import EhostDirReader\n",
    "import pandas as pd\n",
    "ereader = EhostDocReader(nlp=English(), schema_file=schema_file,support_overlap=True)"
   ]
  },
  {
   "cell_type": "code",
   "execution_count": null,
   "id": "cedf020c-b6ad-4638-919d-4d18399f518e",
   "metadata": {},
   "outputs": [],
   "source": [
    "doc = ereader.read(doc_dir+'problem_doc.txt')\n",
    "for concept in doc._.concepts:\n",
    "    for sp in doc.spans[concept]:\n",
    "        print(sp.text)\n",
    "        print(sp.label_)\n",
    "        print(sp.start_char)\n",
    "        print(sp.end_char)\n",
    "        print(doc._.doc_name)\n"
   ]
  },
  {
   "cell_type": "code",
   "execution_count": null,
   "id": "93716a12-1aa2-44b8-86d3-f28ffbd044ed",
   "metadata": {},
   "outputs": [],
   "source": []
  }
 ],
 "metadata": {
  "kernelspec": {
   "display_name": "Python 3 (ipykernel)",
   "language": "python",
   "name": "python3"
  },
  "language_info": {
   "codemirror_mode": {
    "name": "ipython",
    "version": 3
   },
   "file_extension": ".py",
   "mimetype": "text/x-python",
   "name": "python",
   "nbconvert_exporter": "python",
   "pygments_lexer": "ipython3",
   "version": "3.9.7"
  }
 },
 "nbformat": 4,
 "nbformat_minor": 5
}
