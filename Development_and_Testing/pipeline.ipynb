{
 "cells": [
  {
   "cell_type": "markdown",
   "id": "4106a462-56ed-454a-a105-330c9f4d2803",
   "metadata": {},
   "source": [
    "# Pipeline: eHost annotation IO -> build dataframe -> IAA calculation"
   ]
  },
  {
   "cell_type": "markdown",
   "id": "c89da08c-1520-4b82-92a6-fa76713c19a2",
   "metadata": {},
   "source": [
    "## eHost annotation IO (overlapped)"
   ]
  },
  {
   "cell_type": "code",
   "execution_count": null,
   "id": "a7425f8d-0abc-4c45-b9ae-f134777afa14",
   "metadata": {},
   "outputs": [],
   "source": [
    "import os # in the older version, dir reader does not work, so we iterate the folder\n",
    "from spacy.lang.en import English\n",
    "from medspacy_io.reader import EhostDocReader\n",
    "from medspacy_io.reader import EhostDirReader\n",
    "import pandas as pd\n",
    "import sys\n",
    "# caution: path[0] is reserved for script path (or '' in REPL)\n",
    "sys.path.insert(1, './Integrated_code/')\n",
    "import eHost_annot2dataframe as eHost2df #io functions"
   ]
  },
  {
   "cell_type": "code",
   "execution_count": null,
   "id": "92b742f0-643a-4976-9bb8-65612ad253bc",
   "metadata": {},
   "outputs": [],
   "source": [
    "schema_file = '../mimic_annotations/testEhostReaderData/config/projectschema.xml\n",
    "doc_dir = '../mimic_annotations/testEhostReaderData/corpus/'\n",
    "anno_dir = '../mimic_annotations/testEhostReaderData/saved/'"
   ]
  },
  {
   "cell_type": "markdown",
   "id": "c250ea78-1db4-4835-99c6-33ec4101d74c",
   "metadata": {},
   "source": [
    "***Remark:*** We are using older version of `medspacy-io-0.1.0.dev34`, the directory reader does not work. So we list the files and readin each one.  In the new version of `medspacy-io` we can use the reader for entire folder."
   ]
  },
  {
   "cell_type": "code",
   "execution_count": null,
   "id": "9c188183-d20e-4df1-941c-da177a37a7c0",
   "metadata": {},
   "outputs": [],
   "source": [
    "docs = eHost2df.eHost_dir_reader_overlap(schema_file,doc_dir)"
   ]
  },
  {
   "cell_type": "markdown",
   "id": "b87b4327-51ed-4f2e-ac8f-b8602f5123ab",
   "metadata": {},
   "source": [
    "### Now build up dataframe"
   ]
  },
  {
   "cell_type": "code",
   "execution_count": null,
   "id": "4c400ec5-2e1d-42b4-bea2-e46e806d9de2",
   "metadata": {},
   "outputs": [],
   "source": [
    "df = eHost2df.df_builder_overlapSpan(docs)\n",
    "df"
   ]
  },
  {
   "cell_type": "markdown",
   "id": "b3418ba7-e9e6-4936-91e5-124408746d63",
   "metadata": {},
   "source": [
    "You can now save the DataFrame by run `df.to_pickle(\"df_Mengke.pkl\")` or load it by `pd.read_pickle('./df_Mengke.pkl')`"
   ]
  },
  {
   "cell_type": "markdown",
   "id": "bde484c1-e8e7-47eb-ae0d-200eff63bf30",
   "metadata": {},
   "source": [
    "## IAA Calculation\n",
    "***Remark*** You need to install `quicksectx` (currently v0.3.1) if you don't already have it (I think it may be installed alongside medspacy)"
   ]
  },
  {
   "cell_type": "code",
   "execution_count": null,
   "id": "4db63ada-c285-443f-b0be-096d45bc7b87",
   "metadata": {},
   "outputs": [],
   "source": [
    "import IAA_ as IAA\n",
    "df1 = pd.read_pickle('./df_John.pkl')\n",
    "df2 = pd.read_pickle('./df_Mengke.pkl')\n",
    "\n",
    "#Insert the two dataframes where you see 'df1' and 'df2' below\n",
    "#By default this will look at labels and loose matching. 'df1' is considered the primary/golden annotation.\n",
    "#You can specify 'loose=0' to only look for exact matches (ie. spans only match if they have the exact same starting and ending character)\n",
    "#You can specify 'labels=0' to not include labels as matching criteria.\n",
    "#Returns a dataframe with relevant calculations\n",
    "\n",
    "IAA.corpus_agreement(df1,df2)\n"
   ]
  }
 ],
 "metadata": {
  "kernelspec": {
   "display_name": "Python 3 (ipykernel)",
   "language": "python",
   "name": "python3"
  },
  "language_info": {
   "codemirror_mode": {
    "name": "ipython",
    "version": 3
   },
   "file_extension": ".py",
   "mimetype": "text/x-python",
   "name": "python",
   "nbconvert_exporter": "python",
   "pygments_lexer": "ipython3",
   "version": "3.9.7"
  }
 },
 "nbformat": 4,
 "nbformat_minor": 5
}
